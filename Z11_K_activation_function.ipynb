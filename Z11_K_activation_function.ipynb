{
 "cells": [
  {
   "cell_type": "code",
   "execution_count": 1,
   "metadata": {},
   "outputs": [
    {
     "name": "stdout",
     "output_type": "stream",
     "text": [
      "2.7.0\n",
      "2.7.0\n"
     ]
    }
   ],
   "source": [
    "import tensorflow as tf\n",
    "from tensorflow import keras\n",
    "print(tf.__version__)\n",
    "\n",
    "print(keras.__version__)"
   ]
  },
  {
   "cell_type": "code",
   "execution_count": 2,
   "metadata": {},
   "outputs": [],
   "source": [
    "import numpy as np\n",
    "import pandas as pd\n",
    "import matplotlib.pyplot as plt\n",
    "import os"
   ]
  },
  {
   "cell_type": "code",
   "execution_count": 3,
   "metadata": {},
   "outputs": [
    {
     "name": "stderr",
     "output_type": "stream",
     "text": [
      "/var/folders/3t/bh3b870n50l8_xwgnc5hdq900000gn/T/ipykernel_29465/357239312.py:6: ParserWarning: Falling back to the 'python' engine because the 'c' engine does not support regex separators (separators > 1 char and different from '\\s+' are interpreted as regex); you can avoid this warning by specifying engine='python'.\n",
      "  train_set = pd.read_csv('Dane/adult/adult.data', sep=\", \",header = None)\n",
      "/var/folders/3t/bh3b870n50l8_xwgnc5hdq900000gn/T/ipykernel_29465/357239312.py:7: ParserWarning: Falling back to the 'python' engine because the 'c' engine does not support regex separators (separators > 1 char and different from '\\s+' are interpreted as regex); you can avoid this warning by specifying engine='python'.\n",
      "  test_set = pd.read_csv('Dane/adult/adult.test', sep=\", \",skiprows = 1, header = None) # Make sure to skip a row for the test set\n"
     ]
    },
    {
     "data": {
      "text/html": [
       "<div>\n",
       "<style scoped>\n",
       "    .dataframe tbody tr th:only-of-type {\n",
       "        vertical-align: middle;\n",
       "    }\n",
       "\n",
       "    .dataframe tbody tr th {\n",
       "        vertical-align: top;\n",
       "    }\n",
       "\n",
       "    .dataframe thead th {\n",
       "        text-align: right;\n",
       "    }\n",
       "</style>\n",
       "<table border=\"1\" class=\"dataframe\">\n",
       "  <thead>\n",
       "    <tr style=\"text-align: right;\">\n",
       "      <th></th>\n",
       "      <th>age</th>\n",
       "      <th>workclass</th>\n",
       "      <th>fnlwgt</th>\n",
       "      <th>education</th>\n",
       "      <th>education_num</th>\n",
       "      <th>marital_status</th>\n",
       "      <th>occupation</th>\n",
       "      <th>relationship</th>\n",
       "      <th>race</th>\n",
       "      <th>sex</th>\n",
       "      <th>capital_gain</th>\n",
       "      <th>capital_loss</th>\n",
       "      <th>hours_per_week</th>\n",
       "      <th>native_country</th>\n",
       "      <th>wage_class</th>\n",
       "    </tr>\n",
       "  </thead>\n",
       "  <tbody>\n",
       "    <tr>\n",
       "      <th>0</th>\n",
       "      <td>39</td>\n",
       "      <td>State-gov</td>\n",
       "      <td>77516</td>\n",
       "      <td>Bachelors</td>\n",
       "      <td>13</td>\n",
       "      <td>Never-married</td>\n",
       "      <td>Adm-clerical</td>\n",
       "      <td>Not-in-family</td>\n",
       "      <td>White</td>\n",
       "      <td>Male</td>\n",
       "      <td>2174</td>\n",
       "      <td>0</td>\n",
       "      <td>40</td>\n",
       "      <td>United-States</td>\n",
       "      <td>&lt;=50K</td>\n",
       "    </tr>\n",
       "    <tr>\n",
       "      <th>1</th>\n",
       "      <td>50</td>\n",
       "      <td>Self-emp-not-inc</td>\n",
       "      <td>83311</td>\n",
       "      <td>Bachelors</td>\n",
       "      <td>13</td>\n",
       "      <td>Married-civ-spouse</td>\n",
       "      <td>Exec-managerial</td>\n",
       "      <td>Husband</td>\n",
       "      <td>White</td>\n",
       "      <td>Male</td>\n",
       "      <td>0</td>\n",
       "      <td>0</td>\n",
       "      <td>13</td>\n",
       "      <td>United-States</td>\n",
       "      <td>&lt;=50K</td>\n",
       "    </tr>\n",
       "    <tr>\n",
       "      <th>2</th>\n",
       "      <td>38</td>\n",
       "      <td>Private</td>\n",
       "      <td>215646</td>\n",
       "      <td>HS-grad</td>\n",
       "      <td>9</td>\n",
       "      <td>Divorced</td>\n",
       "      <td>Handlers-cleaners</td>\n",
       "      <td>Not-in-family</td>\n",
       "      <td>White</td>\n",
       "      <td>Male</td>\n",
       "      <td>0</td>\n",
       "      <td>0</td>\n",
       "      <td>40</td>\n",
       "      <td>United-States</td>\n",
       "      <td>&lt;=50K</td>\n",
       "    </tr>\n",
       "    <tr>\n",
       "      <th>3</th>\n",
       "      <td>53</td>\n",
       "      <td>Private</td>\n",
       "      <td>234721</td>\n",
       "      <td>11th</td>\n",
       "      <td>7</td>\n",
       "      <td>Married-civ-spouse</td>\n",
       "      <td>Handlers-cleaners</td>\n",
       "      <td>Husband</td>\n",
       "      <td>Black</td>\n",
       "      <td>Male</td>\n",
       "      <td>0</td>\n",
       "      <td>0</td>\n",
       "      <td>40</td>\n",
       "      <td>United-States</td>\n",
       "      <td>&lt;=50K</td>\n",
       "    </tr>\n",
       "    <tr>\n",
       "      <th>4</th>\n",
       "      <td>28</td>\n",
       "      <td>Private</td>\n",
       "      <td>338409</td>\n",
       "      <td>Bachelors</td>\n",
       "      <td>13</td>\n",
       "      <td>Married-civ-spouse</td>\n",
       "      <td>Prof-specialty</td>\n",
       "      <td>Wife</td>\n",
       "      <td>Black</td>\n",
       "      <td>Female</td>\n",
       "      <td>0</td>\n",
       "      <td>0</td>\n",
       "      <td>40</td>\n",
       "      <td>Cuba</td>\n",
       "      <td>&lt;=50K</td>\n",
       "    </tr>\n",
       "  </tbody>\n",
       "</table>\n",
       "</div>"
      ],
      "text/plain": [
       "   age         workclass  fnlwgt  education  education_num  \\\n",
       "0   39         State-gov   77516  Bachelors             13   \n",
       "1   50  Self-emp-not-inc   83311  Bachelors             13   \n",
       "2   38           Private  215646    HS-grad              9   \n",
       "3   53           Private  234721       11th              7   \n",
       "4   28           Private  338409  Bachelors             13   \n",
       "\n",
       "       marital_status         occupation   relationship   race     sex  \\\n",
       "0       Never-married       Adm-clerical  Not-in-family  White    Male   \n",
       "1  Married-civ-spouse    Exec-managerial        Husband  White    Male   \n",
       "2            Divorced  Handlers-cleaners  Not-in-family  White    Male   \n",
       "3  Married-civ-spouse  Handlers-cleaners        Husband  Black    Male   \n",
       "4  Married-civ-spouse     Prof-specialty           Wife  Black  Female   \n",
       "\n",
       "   capital_gain  capital_loss  hours_per_week native_country wage_class  \n",
       "0          2174             0              40  United-States      <=50K  \n",
       "1             0             0              13  United-States      <=50K  \n",
       "2             0             0              40  United-States      <=50K  \n",
       "3             0             0              40  United-States      <=50K  \n",
       "4             0             0              40           Cuba      <=50K  "
      ]
     },
     "execution_count": 3,
     "metadata": {},
     "output_type": "execute_result"
    }
   ],
   "source": [
    "# Wczytaj dane treningowe i testowe\n",
    "import numpy as np\n",
    "import matplotlib.pyplot as plt\n",
    "import pandas as pd\n",
    "\n",
    "train_set = pd.read_csv('Dane/adult/adult.data', sep=\", \",header = None)\n",
    "test_set = pd.read_csv('Dane/adult/adult.test', sep=\", \",skiprows = 1, header = None) # Make sure to skip a row for the test set\n",
    "\n",
    "col_labels = ['age', 'workclass', 'fnlwgt', 'education', 'education_num', 'marital_status', 'occupation', \n",
    "              'relationship', 'race', 'sex', 'capital_gain', 'capital_loss', 'hours_per_week', 'native_country',\n",
    "             'wage_class']\n",
    "train_set.columns = col_labels\n",
    "test_set.columns = col_labels\n",
    "\n",
    "train = train_set.replace('?', np.nan).dropna()\n",
    "test = test_set.replace('?', np.nan).dropna()\n",
    "\n",
    "train_set.head()\n"
   ]
  },
  {
   "cell_type": "markdown",
   "metadata": {},
   "source": [
    "# Zad.\n",
    "Zróbmy szybki preprocesing"
   ]
  },
  {
   "cell_type": "code",
   "execution_count": 4,
   "metadata": {},
   "outputs": [],
   "source": [
    "dataset = pd.concat([train,test])\n",
    "\n",
    "dataset['wage_class'] = dataset.wage_class.replace({'<=50K.': 0,'<=50K':0, '>50K.':1, '>50K':1})\n",
    "\n",
    "dataset.drop([\"fnlwgt\"],axis=1,inplace=True)\n",
    "\n",
    "dataset.drop([\"education\"],axis=1,inplace=True)\n",
    "\n",
    "x = dataset.groupby('native_country')[\"wage_class\"].mean()\n",
    "\n",
    "d = dict(pd.cut(x[x.index!=\" United-States\"],5,labels=range(5)))\n",
    "\n",
    "dataset['native_country'] = dataset['native_country'].replace(d)\n",
    "\n",
    "dataset = pd.get_dummies(dataset,drop_first=True)\n",
    "\n",
    "train = dataset.iloc[:train.shape[0]]\n",
    "test = dataset.iloc[train.shape[0]:]\n",
    "\n",
    "X_train = train.drop(\"wage_class\",axis=1)\n",
    "y_train = train.wage_class\n",
    "\n",
    "X_test = test.drop(\"wage_class\",axis=1)\n",
    "y_test = test.wage_class\n"
   ]
  },
  {
   "cell_type": "markdown",
   "metadata": {},
   "source": [
    "# Zad\n",
    "Nauczmy prosty model."
   ]
  },
  {
   "cell_type": "code",
   "execution_count": 5,
   "metadata": {},
   "outputs": [
    {
     "name": "stdout",
     "output_type": "stream",
     "text": [
      "Metal device set to: Apple M1\n"
     ]
    },
    {
     "name": "stderr",
     "output_type": "stream",
     "text": [
      "2022-05-24 15:10:38.089910: I tensorflow/core/common_runtime/pluggable_device/pluggable_device_factory.cc:305] Could not identify NUMA node of platform GPU ID 0, defaulting to 0. Your kernel may not have been built with NUMA support.\n",
      "2022-05-24 15:10:38.090198: I tensorflow/core/common_runtime/pluggable_device/pluggable_device_factory.cc:271] Created TensorFlow device (/job:localhost/replica:0/task:0/device:GPU:0 with 0 MB memory) -> physical PluggableDevice (device: 0, name: METAL, pci bus id: <undefined>)\n"
     ]
    },
    {
     "name": "stdout",
     "output_type": "stream",
     "text": [
      "Model: \"sequential\"\n",
      "_________________________________________________________________\n",
      " Layer (type)                Output Shape              Param #   \n",
      "=================================================================\n",
      " dense (Dense)               (None, 100)               4200      \n",
      "                                                                 \n",
      " dense_1 (Dense)             (None, 50)                5050      \n",
      "                                                                 \n",
      " dense_2 (Dense)             (None, 10)                510       \n",
      "                                                                 \n",
      " dense_3 (Dense)             (None, 1)                 11        \n",
      "                                                                 \n",
      "=================================================================\n",
      "Total params: 9,771\n",
      "Trainable params: 9,771\n",
      "Non-trainable params: 0\n",
      "_________________________________________________________________\n"
     ]
    }
   ],
   "source": [
    "from keras.models import Sequential\n",
    "from keras.layers import Dense\n",
    "\n",
    "from keras.callbacks import History\n",
    "\n",
    "history = History()\n",
    "model = Sequential()\n",
    "model.add(Dense(100,activation=\"sigmoid\",input_shape=(X_train.shape[1],)))\n",
    "model.add(Dense(50,activation=\"sigmoid\"))\n",
    "model.add(Dense(10,activation=\"sigmoid\"))\n",
    "model.add(Dense(1,activation=\"sigmoid\"))\n",
    "model.summary()"
   ]
  },
  {
   "cell_type": "code",
   "execution_count": 6,
   "metadata": {},
   "outputs": [],
   "source": [
    "model.compile(loss=\"binary_crossentropy\",optimizer=\"Adam\", metrics=[\"accuracy\"])"
   ]
  },
  {
   "cell_type": "code",
   "execution_count": 7,
   "metadata": {},
   "outputs": [
    {
     "name": "stderr",
     "output_type": "stream",
     "text": [
      "2022-05-24 15:10:44.422130: W tensorflow/core/platform/profile_utils/cpu_utils.cc:128] Failed to get CPU frequency: 0 Hz\n",
      "2022-05-24 15:10:44.565927: I tensorflow/core/grappler/optimizers/custom_graph_optimizer_registry.cc:112] Plugin optimizer for device_type GPU is enabled.\n"
     ]
    },
    {
     "name": "stdout",
     "output_type": "stream",
     "text": [
      "Epoch 1/10\n",
      "943/943 [==============================] - ETA: 0s - loss: 0.4278 - accuracy: 0.7926"
     ]
    },
    {
     "name": "stderr",
     "output_type": "stream",
     "text": [
      "2022-05-24 15:10:51.866308: I tensorflow/core/grappler/optimizers/custom_graph_optimizer_registry.cc:112] Plugin optimizer for device_type GPU is enabled.\n"
     ]
    },
    {
     "name": "stdout",
     "output_type": "stream",
     "text": [
      "943/943 [==============================] - 9s 7ms/step - loss: 0.4278 - accuracy: 0.7926 - val_loss: 0.3950 - val_accuracy: 0.7919\n",
      "Epoch 2/10\n",
      "943/943 [==============================] - 7s 7ms/step - loss: 0.3764 - accuracy: 0.8108 - val_loss: 0.3880 - val_accuracy: 0.7968\n",
      "Epoch 3/10\n",
      "943/943 [==============================] - 7s 7ms/step - loss: 0.3741 - accuracy: 0.8133 - val_loss: 0.3634 - val_accuracy: 0.8331\n",
      "Epoch 4/10\n",
      "943/943 [==============================] - 7s 7ms/step - loss: 0.3706 - accuracy: 0.8150 - val_loss: 0.3674 - val_accuracy: 0.8135\n",
      "Epoch 5/10\n",
      "943/943 [==============================] - 7s 8ms/step - loss: 0.3710 - accuracy: 0.8132 - val_loss: 0.3765 - val_accuracy: 0.8048\n",
      "Epoch 6/10\n",
      "943/943 [==============================] - 7s 7ms/step - loss: 0.3694 - accuracy: 0.8149 - val_loss: 0.3675 - val_accuracy: 0.8116\n",
      "Epoch 7/10\n",
      "943/943 [==============================] - 7s 7ms/step - loss: 0.3690 - accuracy: 0.8145 - val_loss: 0.3876 - val_accuracy: 0.7938\n",
      "Epoch 8/10\n",
      "943/943 [==============================] - 7s 7ms/step - loss: 0.3690 - accuracy: 0.8143 - val_loss: 0.3755 - val_accuracy: 0.8039\n",
      "Epoch 9/10\n",
      "943/943 [==============================] - 6s 7ms/step - loss: 0.3673 - accuracy: 0.8154 - val_loss: 0.3649 - val_accuracy: 0.8126\n",
      "Epoch 10/10\n",
      "943/943 [==============================] - 7s 7ms/step - loss: 0.3656 - accuracy: 0.8170 - val_loss: 0.3758 - val_accuracy: 0.8066\n"
     ]
    }
   ],
   "source": [
    "# history = model.fit(X_train, y_train, epochs=30, validation_data=(X_valid, y_valid))\n",
    "history = model.fit(X_train, y_train, validation_data= (X_test, y_test), batch_size=32,epochs=10)"
   ]
  },
  {
   "cell_type": "code",
   "execution_count": 8,
   "metadata": {},
   "outputs": [
    {
     "data": {
      "image/png": "[encoded data removed]",
      "text/plain": [
       "<Figure size 576x360 with 1 Axes>"
      ]
     },
     "metadata": {
      "needs_background": "light"
     },
     "output_type": "display_data"
    }
   ],
   "source": [
    "import pandas as pd\n",
    "\n",
    "pd.DataFrame(history.history).plot(figsize=(8, 5))\n",
    "plt.grid(True)\n",
    "plt.gca().set_ylim(0, 1)\n",
    "plt.show()"
   ]
  },
  {
   "cell_type": "code",
   "execution_count": 9,
   "metadata": {},
   "outputs": [
    {
     "name": "stdout",
     "output_type": "stream",
     "text": [
      "471/471 [==============================] - 2s 3ms/step - loss: 0.3758 - accuracy: 0.8066\n"
     ]
    },
    {
     "data": {
      "text/plain": [
       "[0.3758235573768616, 0.8066401481628418]"
      ]
     },
     "execution_count": 9,
     "metadata": {},
     "output_type": "execute_result"
    }
   ],
   "source": [
    "model.evaluate(X_test,y_test)"
   ]
  },
  {
   "cell_type": "code",
   "execution_count": 11,
   "metadata": {},
   "outputs": [
    {
     "name": "stderr",
     "output_type": "stream",
     "text": [
      "2022-05-24 15:12:45.580885: I tensorflow/core/grappler/optimizers/custom_graph_optimizer_registry.cc:112] Plugin optimizer for device_type GPU is enabled.\n"
     ]
    },
    {
     "data": {
      "text/plain": [
       "0.8066401062416999"
      ]
     },
     "execution_count": 11,
     "metadata": {},
     "output_type": "execute_result"
    }
   ],
   "source": [
    "from sklearn import  metrics\n",
    "metrics.accuracy_score(y_true= y_test, y_pred= (model.predict(X_test) > 0.5).astype(\"int32\") )"
   ]
  },
  {
   "cell_type": "markdown",
   "metadata": {},
   "source": [
    "# Zad\n",
    "\n",
    "Porównaj powyższy wynik z nauką na danych znormalizowanych z fróżnymi funkcjami aktywacji:\n",
    "* sigmoid\n",
    "* tanh\n",
    "* relu\n",
    "* elu\n",
    "* LeakyReLU"
   ]
  },
  {
   "cell_type": "code",
   "execution_count": 13,
   "metadata": {},
   "outputs": [
    {
     "name": "stdout",
     "output_type": "stream",
     "text": [
      "Activation function:  sigmoid \n",
      "\n",
      "\n",
      "Epoch 1/10\n",
      " 18/943 [..............................] - ETA: 5s - loss: 0.5652 - accuracy: 0.7552"
     ]
    },
    {
     "name": "stderr",
     "output_type": "stream",
     "text": [
      "2022-05-24 15:16:00.826997: I tensorflow/core/grappler/optimizers/custom_graph_optimizer_registry.cc:112] Plugin optimizer for device_type GPU is enabled.\n"
     ]
    },
    {
     "name": "stdout",
     "output_type": "stream",
     "text": [
      "938/943 [============================>.] - ETA: 0s - loss: 0.3764 - accuracy: 0.8248"
     ]
    },
    {
     "name": "stderr",
     "output_type": "stream",
     "text": [
      "2022-05-24 15:16:06.118084: I tensorflow/core/grappler/optimizers/custom_graph_optimizer_registry.cc:112] Plugin optimizer for device_type GPU is enabled.\n"
     ]
    },
    {
     "name": "stdout",
     "output_type": "stream",
     "text": [
      "943/943 [==============================] - 7s 7ms/step - loss: 0.3759 - accuracy: 0.8250 - val_loss: 0.3412 - val_accuracy: 0.8449\n",
      "Epoch 2/10\n",
      "943/943 [==============================] - 7s 7ms/step - loss: 0.3353 - accuracy: 0.8451 - val_loss: 0.3334 - val_accuracy: 0.8444\n",
      "Epoch 3/10\n",
      "943/943 [==============================] - 7s 7ms/step - loss: 0.3287 - accuracy: 0.8487 - val_loss: 0.3276 - val_accuracy: 0.8458\n",
      "Epoch 4/10\n",
      "943/943 [==============================] - 7s 7ms/step - loss: 0.3250 - accuracy: 0.8478 - val_loss: 0.3270 - val_accuracy: 0.8487\n",
      "Epoch 5/10\n",
      "943/943 [==============================] - 7s 7ms/step - loss: 0.3232 - accuracy: 0.8493 - val_loss: 0.3236 - val_accuracy: 0.8490\n",
      "Epoch 6/10\n",
      "943/943 [==============================] - 7s 7ms/step - loss: 0.3213 - accuracy: 0.8492 - val_loss: 0.3236 - val_accuracy: 0.8481\n",
      "Epoch 7/10\n",
      "943/943 [==============================] - 7s 7ms/step - loss: 0.3198 - accuracy: 0.8502 - val_loss: 0.3240 - val_accuracy: 0.8483\n",
      "Epoch 8/10\n",
      "943/943 [==============================] - 7s 7ms/step - loss: 0.3185 - accuracy: 0.8511 - val_loss: 0.3211 - val_accuracy: 0.8507\n",
      "Epoch 9/10\n",
      "943/943 [==============================] - 7s 7ms/step - loss: 0.3168 - accuracy: 0.8511 - val_loss: 0.3209 - val_accuracy: 0.8499\n",
      "Epoch 10/10\n",
      "943/943 [==============================] - 7s 7ms/step - loss: 0.3150 - accuracy: 0.8525 - val_loss: 0.3263 - val_accuracy: 0.8475\n"
     ]
    },
    {
     "name": "stderr",
     "output_type": "stream",
     "text": [
      "2022-05-24 15:17:07.426282: I tensorflow/core/grappler/optimizers/custom_graph_optimizer_registry.cc:112] Plugin optimizer for device_type GPU is enabled.\n"
     ]
    },
    {
     "name": "stdout",
     "output_type": "stream",
     "text": [
      "0.6958831341301461\n"
     ]
    },
    {
     "data": {
      "image/png": "[encoded data removed]",
      "text/plain": [
       "<Figure size 576x360 with 1 Axes>"
      ]
     },
     "metadata": {
      "needs_background": "light"
     },
     "output_type": "display_data"
    },
    {
     "name": "stdout",
     "output_type": "stream",
     "text": [
      "Activation function:  tanh \n",
      "\n",
      "\n",
      "Epoch 1/10\n",
      "  1/943 [..............................] - ETA: 4:05 - loss: 0.9058 - accuracy: 0.3125"
     ]
    },
    {
     "name": "stderr",
     "output_type": "stream",
     "text": [
      "2022-05-24 15:17:08.454157: I tensorflow/core/grappler/optimizers/custom_graph_optimizer_registry.cc:112] Plugin optimizer for device_type GPU is enabled.\n"
     ]
    },
    {
     "name": "stdout",
     "output_type": "stream",
     "text": [
      "943/943 [==============================] - ETA: 0s - loss: 0.3472 - accuracy: 0.8361"
     ]
    },
    {
     "name": "stderr",
     "output_type": "stream",
     "text": [
      "2022-05-24 15:17:14.063577: I tensorflow/core/grappler/optimizers/custom_graph_optimizer_registry.cc:112] Plugin optimizer for device_type GPU is enabled.\n"
     ]
    },
    {
     "name": "stdout",
     "output_type": "stream",
     "text": [
      "943/943 [==============================] - 7s 7ms/step - loss: 0.3472 - accuracy: 0.8361 - val_loss: 0.3326 - val_accuracy: 0.8461\n",
      "Epoch 2/10\n",
      "943/943 [==============================] - 7s 7ms/step - loss: 0.3217 - accuracy: 0.8503 - val_loss: 0.3243 - val_accuracy: 0.8477\n",
      "Epoch 3/10\n",
      "943/943 [==============================] - 7s 7ms/step - loss: 0.3149 - accuracy: 0.8531 - val_loss: 0.3227 - val_accuracy: 0.8482\n",
      "Epoch 4/10\n",
      "943/943 [==============================] - 6s 7ms/step - loss: 0.3114 - accuracy: 0.8542 - val_loss: 0.3204 - val_accuracy: 0.8502\n",
      "Epoch 5/10\n",
      "943/943 [==============================] - 6s 7ms/step - loss: 0.3067 - accuracy: 0.8582 - val_loss: 0.3183 - val_accuracy: 0.8521\n",
      "Epoch 6/10\n",
      "943/943 [==============================] - 7s 7ms/step - loss: 0.3037 - accuracy: 0.8591 - val_loss: 0.3190 - val_accuracy: 0.8503\n",
      "Epoch 7/10\n",
      "943/943 [==============================] - 7s 7ms/step - loss: 0.3008 - accuracy: 0.8595 - val_loss: 0.3215 - val_accuracy: 0.8504\n",
      "Epoch 8/10\n",
      "943/943 [==============================] - 6s 7ms/step - loss: 0.2981 - accuracy: 0.8603 - val_loss: 0.3199 - val_accuracy: 0.8483\n",
      "Epoch 9/10\n",
      "943/943 [==============================] - 6s 7ms/step - loss: 0.2964 - accuracy: 0.8619 - val_loss: 0.3203 - val_accuracy: 0.8497\n",
      "Epoch 10/10\n",
      "943/943 [==============================] - 7s 8ms/step - loss: 0.2930 - accuracy: 0.8625 - val_loss: 0.3209 - val_accuracy: 0.8502\n"
     ]
    },
    {
     "name": "stderr",
     "output_type": "stream",
     "text": [
      "2022-05-24 15:18:15.407363: I tensorflow/core/grappler/optimizers/custom_graph_optimizer_registry.cc:112] Plugin optimizer for device_type GPU is enabled.\n"
     ]
    },
    {
     "name": "stdout",
     "output_type": "stream",
     "text": [
      "0.7596945551128818\n"
     ]
    },
    {
     "data": {
      "image/png": "[encoded data removed]",
      "text/plain": [
       "<Figure size 576x360 with 1 Axes>"
      ]
     },
     "metadata": {
      "needs_background": "light"
     },
     "output_type": "display_data"
    },
    {
     "name": "stdout",
     "output_type": "stream",
     "text": [
      "Activation function:  relu \n",
      "\n",
      "\n",
      "Epoch 1/10\n",
      "  1/943 [..............................] - ETA: 3:54 - loss: 0.7282 - accuracy: 0.3750"
     ]
    },
    {
     "name": "stderr",
     "output_type": "stream",
     "text": [
      "2022-05-24 15:18:16.357604: I tensorflow/core/grappler/optimizers/custom_graph_optimizer_registry.cc:112] Plugin optimizer for device_type GPU is enabled.\n"
     ]
    },
    {
     "name": "stdout",
     "output_type": "stream",
     "text": [
      "943/943 [==============================] - ETA: 0s - loss: 0.3451 - accuracy: 0.8354"
     ]
    },
    {
     "name": "stderr",
     "output_type": "stream",
     "text": [
      "2022-05-24 15:18:21.718937: I tensorflow/core/grappler/optimizers/custom_graph_optimizer_registry.cc:112] Plugin optimizer for device_type GPU is enabled.\n"
     ]
    },
    {
     "name": "stdout",
     "output_type": "stream",
     "text": [
      "943/943 [==============================] - 7s 7ms/step - loss: 0.3451 - accuracy: 0.8354 - val_loss: 0.3255 - val_accuracy: 0.8484\n",
      "Epoch 2/10\n",
      "943/943 [==============================] - 7s 7ms/step - loss: 0.3186 - accuracy: 0.8518 - val_loss: 0.3234 - val_accuracy: 0.8481\n",
      "Epoch 3/10\n",
      "943/943 [==============================] - 6s 7ms/step - loss: 0.3122 - accuracy: 0.8539 - val_loss: 0.3300 - val_accuracy: 0.8475\n",
      "Epoch 4/10\n",
      "943/943 [==============================] - 7s 7ms/step - loss: 0.3090 - accuracy: 0.8547 - val_loss: 0.3229 - val_accuracy: 0.8501\n",
      "Epoch 5/10\n",
      "943/943 [==============================] - 6s 7ms/step - loss: 0.3057 - accuracy: 0.8579 - val_loss: 0.3304 - val_accuracy: 0.8438\n",
      "Epoch 6/10\n",
      "943/943 [==============================] - 6s 7ms/step - loss: 0.3037 - accuracy: 0.8589 - val_loss: 0.3212 - val_accuracy: 0.8513\n",
      "Epoch 7/10\n",
      "943/943 [==============================] - 6s 7ms/step - loss: 0.3014 - accuracy: 0.8587 - val_loss: 0.3219 - val_accuracy: 0.8497\n",
      "Epoch 8/10\n",
      "943/943 [==============================] - 7s 7ms/step - loss: 0.2992 - accuracy: 0.8611 - val_loss: 0.3241 - val_accuracy: 0.8505\n",
      "Epoch 9/10\n",
      "943/943 [==============================] - 6s 7ms/step - loss: 0.2962 - accuracy: 0.8616 - val_loss: 0.3296 - val_accuracy: 0.8424\n",
      "Epoch 10/10\n",
      "943/943 [==============================] - 7s 7ms/step - loss: 0.2948 - accuracy: 0.8626 - val_loss: 0.3230 - val_accuracy: 0.8485\n"
     ]
    },
    {
     "name": "stderr",
     "output_type": "stream",
     "text": [
      "2022-05-24 15:19:21.999877: I tensorflow/core/grappler/optimizers/custom_graph_optimizer_registry.cc:112] Plugin optimizer for device_type GPU is enabled.\n"
     ]
    },
    {
     "name": "stdout",
     "output_type": "stream",
     "text": [
      "0.7753652058432935\n"
     ]
    },
    {
     "data": {
      "image/png": "[encoded data removed]",
      "text/plain": [
       "<Figure size 576x360 with 1 Axes>"
      ]
     },
     "metadata": {
      "needs_background": "light"
     },
     "output_type": "display_data"
    },
    {
     "name": "stdout",
     "output_type": "stream",
     "text": [
      "Activation function:  elu \n",
      "\n",
      "\n",
      "Epoch 1/10\n",
      "  6/943 [..............................] - ETA: 9s - loss: 0.7586 - accuracy: 0.4948  "
     ]
    },
    {
     "name": "stderr",
     "output_type": "stream",
     "text": [
      "2022-05-24 15:19:23.109020: I tensorflow/core/grappler/optimizers/custom_graph_optimizer_registry.cc:112] Plugin optimizer for device_type GPU is enabled.\n"
     ]
    },
    {
     "name": "stdout",
     "output_type": "stream",
     "text": [
      "943/943 [==============================] - ETA: 0s - loss: 0.3395 - accuracy: 0.8402"
     ]
    },
    {
     "name": "stderr",
     "output_type": "stream",
     "text": [
      "2022-05-24 15:19:32.797330: I tensorflow/core/grappler/optimizers/custom_graph_optimizer_registry.cc:112] Plugin optimizer for device_type GPU is enabled.\n"
     ]
    },
    {
     "name": "stdout",
     "output_type": "stream",
     "text": [
      "943/943 [==============================] - 12s 13ms/step - loss: 0.3395 - accuracy: 0.8402 - val_loss: 0.3308 - val_accuracy: 0.8479\n",
      "Epoch 2/10\n",
      "943/943 [==============================] - 12s 12ms/step - loss: 0.3188 - accuracy: 0.8495 - val_loss: 0.3253 - val_accuracy: 0.8474\n",
      "Epoch 3/10\n",
      "943/943 [==============================] - 11s 12ms/step - loss: 0.3135 - accuracy: 0.8531 - val_loss: 0.3215 - val_accuracy: 0.8474\n",
      "Epoch 4/10\n",
      "943/943 [==============================] - 11s 12ms/step - loss: 0.3109 - accuracy: 0.8549 - val_loss: 0.3217 - val_accuracy: 0.8475\n",
      "Epoch 5/10\n",
      "943/943 [==============================] - 11s 12ms/step - loss: 0.3084 - accuracy: 0.8555 - val_loss: 0.3246 - val_accuracy: 0.8482\n",
      "Epoch 6/10\n",
      "943/943 [==============================] - 11s 12ms/step - loss: 0.3070 - accuracy: 0.8570 - val_loss: 0.3179 - val_accuracy: 0.8488\n",
      "Epoch 7/10\n",
      "943/943 [==============================] - 11s 12ms/step - loss: 0.3046 - accuracy: 0.8593 - val_loss: 0.3247 - val_accuracy: 0.8483\n",
      "Epoch 8/10\n",
      "943/943 [==============================] - 11s 12ms/step - loss: 0.3032 - accuracy: 0.8588 - val_loss: 0.3191 - val_accuracy: 0.8507\n",
      "Epoch 9/10\n",
      "943/943 [==============================] - 12s 12ms/step - loss: 0.3009 - accuracy: 0.8585 - val_loss: 0.3219 - val_accuracy: 0.8491\n",
      "Epoch 10/10\n",
      "943/943 [==============================] - 11s 12ms/step - loss: 0.3003 - accuracy: 0.8606 - val_loss: 0.3214 - val_accuracy: 0.8489\n"
     ]
    },
    {
     "name": "stderr",
     "output_type": "stream",
     "text": [
      "2022-05-24 15:21:17.596686: I tensorflow/core/grappler/optimizers/custom_graph_optimizer_registry.cc:112] Plugin optimizer for device_type GPU is enabled.\n"
     ]
    },
    {
     "name": "stdout",
     "output_type": "stream",
     "text": [
      "0.7565737051792829\n"
     ]
    },
    {
     "data": {
      "image/png": "[encoded data removed]",
      "text/plain": [
       "<Figure size 576x360 with 1 Axes>"
      ]
     },
     "metadata": {
      "needs_background": "light"
     },
     "output_type": "display_data"
    },
    {
     "name": "stdout",
     "output_type": "stream",
     "text": [
      "Activation function:  LeakyReLU \n",
      "\n",
      "\n",
      "Epoch 1/10\n",
      "  1/943 [..............................] - ETA: 4:08 - loss: 0.7993 - accuracy: 0.3438"
     ]
    },
    {
     "name": "stderr",
     "output_type": "stream",
     "text": [
      "2022-05-24 15:21:19.270511: I tensorflow/core/grappler/optimizers/custom_graph_optimizer_registry.cc:112] Plugin optimizer for device_type GPU is enabled.\n"
     ]
    },
    {
     "name": "stdout",
     "output_type": "stream",
     "text": [
      "943/943 [==============================] - ETA: 0s - loss: 0.3402 - accuracy: 0.8397"
     ]
    },
    {
     "name": "stderr",
     "output_type": "stream",
     "text": [
      "2022-05-24 15:21:25.276412: I tensorflow/core/grappler/optimizers/custom_graph_optimizer_registry.cc:112] Plugin optimizer for device_type GPU is enabled.\n"
     ]
    },
    {
     "name": "stdout",
     "output_type": "stream",
     "text": [
      "943/943 [==============================] - 7s 8ms/step - loss: 0.3402 - accuracy: 0.8397 - val_loss: 0.3282 - val_accuracy: 0.8468\n",
      "Epoch 2/10\n",
      "943/943 [==============================] - 7s 8ms/step - loss: 0.3198 - accuracy: 0.8510 - val_loss: 0.3239 - val_accuracy: 0.8491\n",
      "Epoch 3/10\n",
      "943/943 [==============================] - 8s 9ms/step - loss: 0.3151 - accuracy: 0.8528 - val_loss: 0.3227 - val_accuracy: 0.8464\n",
      "Epoch 4/10\n",
      "943/943 [==============================] - 8s 9ms/step - loss: 0.3124 - accuracy: 0.8545 - val_loss: 0.3209 - val_accuracy: 0.8506\n",
      "Epoch 5/10\n",
      "943/943 [==============================] - 8s 9ms/step - loss: 0.3105 - accuracy: 0.8550 - val_loss: 0.3233 - val_accuracy: 0.8490\n",
      "Epoch 6/10\n",
      "943/943 [==============================] - 8s 8ms/step - loss: 0.3088 - accuracy: 0.8562 - val_loss: 0.3243 - val_accuracy: 0.8471\n",
      "Epoch 7/10\n",
      "943/943 [==============================] - 8s 8ms/step - loss: 0.3079 - accuracy: 0.8573 - val_loss: 0.3222 - val_accuracy: 0.8503\n",
      "Epoch 8/10\n",
      "943/943 [==============================] - 8s 8ms/step - loss: 0.3057 - accuracy: 0.8565 - val_loss: 0.3225 - val_accuracy: 0.8503\n",
      "Epoch 9/10\n",
      "943/943 [==============================] - 9s 9ms/step - loss: 0.3048 - accuracy: 0.8574 - val_loss: 0.3203 - val_accuracy: 0.8506\n",
      "Epoch 10/10\n",
      "943/943 [==============================] - 8s 9ms/step - loss: 0.3036 - accuracy: 0.8575 - val_loss: 0.3235 - val_accuracy: 0.8487\n"
     ]
    },
    {
     "name": "stderr",
     "output_type": "stream",
     "text": [
      "2022-05-24 15:22:38.300244: I tensorflow/core/grappler/optimizers/custom_graph_optimizer_registry.cc:112] Plugin optimizer for device_type GPU is enabled.\n"
     ]
    },
    {
     "name": "stdout",
     "output_type": "stream",
     "text": [
      "0.7737715803452855\n"
     ]
    },
    {
     "data": {
      "image/png": "[encoded data removed]",
      "text/plain": [
       "<Figure size 576x360 with 1 Axes>"
      ]
     },
     "metadata": {
      "needs_background": "light"
     },
     "output_type": "display_data"
    }
   ],
   "source": [
    "import pandas as pd\n",
    "from sklearn import  metrics\n",
    "\n",
    "from sklearn.preprocessing import StandardScaler\n",
    "\n",
    "scaler = StandardScaler()\n",
    "scaler.fit(X_train)\n",
    "X_train_scaled = scaler.transform(X_train)\n",
    "X_test_scaled = scaler.transform(X_test)\n",
    "\n",
    "act_fun = [\"sigmoid\",\"tanh\",\"relu\", \"elu\",\"LeakyReLU\"]\n",
    "\n",
    "dfs = []\n",
    "\n",
    "for activation in act_fun:\n",
    "    model = Sequential()\n",
    "    model.add(Dense(100,activation=activation,input_shape=(X_train_scaled.shape[1],)))\n",
    "    model.add(Dense(50,activation=activation))\n",
    "    model.add(Dense(10,activation=activation))\n",
    "    model.add(Dense(1,activation='sigmoid'))\n",
    "    model.compile(loss=\"binary_crossentropy\",optimizer=\"Adam\", metrics=[\"accuracy\"])\n",
    "\n",
    "    print(\"Activation function: \",activation,'\\n\\n')\n",
    "\n",
    "    history = model.fit(X_train_scaled, y_train, validation_data= (X_test_scaled, y_test), batch_size=32,epochs=10);\n",
    "\n",
    "    print(metrics.accuracy_score(y_true= y_test, y_pred= (model.predict(X_test) > 0.5).astype(\"int32\") ))\n",
    "\n",
    "    dfs.append(pd.DataFrame(history.history))\n",
    "    pd.DataFrame(history.history).plot(figsize=(8, 5))\n",
    "    plt.grid(True)\n",
    "    plt.gca().set_ylim(0, 1)\n",
    "    plt.show()"
   ]
  },
  {
   "cell_type": "markdown",
   "metadata": {},
   "source": [
    "# Zad. \n",
    "Stwórz wykres porównujący metody. "
   ]
  },
  {
   "cell_type": "code",
   "execution_count": 16,
   "metadata": {},
   "outputs": [
    {
     "data": {
      "image/png": "[encoded data removed]",
      "text/plain": [
       "<Figure size 864x576 with 1 Axes>"
      ]
     },
     "metadata": {
      "needs_background": "light"
     },
     "output_type": "display_data"
    }
   ],
   "source": [
    "plt.figure(figsize=(12, 8))\n",
    "dfs.append(pd.DataFrame(history.history['accuracy']))\n",
    "\n",
    "for df,fun in zip(dfs,act_fun):\n",
    "    df['val_accuracy'].plot(label = fun)\n",
    "    plt.grid(True)\n",
    "    plt.gca().set_ylim(0.7, 0.9)\n",
    "\n",
    "plt.legend()\n",
    "plt.show()"
   ]
  },
  {
   "cell_type": "code",
   "execution_count": null,
   "metadata": {},
   "outputs": [],
   "source": []
  }
 ],
 "metadata": {
  "kernelspec": {
   "display_name": "Python 3 (ipykernel)",
   "language": "python",
   "name": "python3"
  },
  "language_info": {
   "codemirror_mode": {
    "name": "ipython",
    "version": 3
   },
   "file_extension": ".py",
   "mimetype": "text/x-python",
   "name": "python",
   "nbconvert_exporter": "python",
   "pygments_lexer": "ipython3",
   "version": "3.9.12"
  }
 },
 "nbformat": 4,
 "nbformat_minor": 4
}
