{
 "cells": [
  {
   "cell_type": "code",
   "execution_count": 1,
   "metadata": {},
   "outputs": [
    {
     "name": "stdout",
     "output_type": "stream",
     "text": [
      "2.7.0\n",
      "2.7.0\n"
     ]
    }
   ],
   "source": [
    "import tensorflow as tf\n",
    "from tensorflow import keras\n",
    "print(tf.__version__)\n",
    "\n",
    "print(keras.__version__)"
   ]
  },
  {
   "cell_type": "code",
   "execution_count": 2,
   "metadata": {},
   "outputs": [],
   "source": [
    "import numpy as np\n",
    "import pandas as pd\n",
    "import matplotlib.pyplot as plt\n",
    "import os"
   ]
  },
  {
   "cell_type": "code",
   "execution_count": 3,
   "metadata": {},
   "outputs": [
    {
     "name": "stderr",
     "output_type": "stream",
     "text": [
      "/var/folders/3t/bh3b870n50l8_xwgnc5hdq900000gn/T/ipykernel_72324/357239312.py:6: ParserWarning: Falling back to the 'python' engine because the 'c' engine does not support regex separators (separators > 1 char and different from '\\s+' are interpreted as regex); you can avoid this warning by specifying engine='python'.\n",
      "  train_set = pd.read_csv('Dane/adult/adult.data', sep=\", \",header = None)\n",
      "/var/folders/3t/bh3b870n50l8_xwgnc5hdq900000gn/T/ipykernel_72324/357239312.py:7: ParserWarning: Falling back to the 'python' engine because the 'c' engine does not support regex separators (separators > 1 char and different from '\\s+' are interpreted as regex); you can avoid this warning by specifying engine='python'.\n",
      "  test_set = pd.read_csv('Dane/adult/adult.test', sep=\", \",skiprows = 1, header = None) # Make sure to skip a row for the test set\n"
     ]
    },
    {
     "data": {
      "text/html": [
       "<div>\n",
       "<style scoped>\n",
       "    .dataframe tbody tr th:only-of-type {\n",
       "        vertical-align: middle;\n",
       "    }\n",
       "\n",
       "    .dataframe tbody tr th {\n",
       "        vertical-align: top;\n",
       "    }\n",
       "\n",
       "    .dataframe thead th {\n",
       "        text-align: right;\n",
       "    }\n",
       "</style>\n",
       "<table border=\"1\" class=\"dataframe\">\n",
       "  <thead>\n",
       "    <tr style=\"text-align: right;\">\n",
       "      <th></th>\n",
       "      <th>age</th>\n",
       "      <th>workclass</th>\n",
       "      <th>fnlwgt</th>\n",
       "      <th>education</th>\n",
       "      <th>education_num</th>\n",
       "      <th>marital_status</th>\n",
       "      <th>occupation</th>\n",
       "      <th>relationship</th>\n",
       "      <th>race</th>\n",
       "      <th>sex</th>\n",
       "      <th>capital_gain</th>\n",
       "      <th>capital_loss</th>\n",
       "      <th>hours_per_week</th>\n",
       "      <th>native_country</th>\n",
       "      <th>wage_class</th>\n",
       "    </tr>\n",
       "  </thead>\n",
       "  <tbody>\n",
       "    <tr>\n",
       "      <th>0</th>\n",
       "      <td>39</td>\n",
       "      <td>State-gov</td>\n",
       "      <td>77516</td>\n",
       "      <td>Bachelors</td>\n",
       "      <td>13</td>\n",
       "      <td>Never-married</td>\n",
       "      <td>Adm-clerical</td>\n",
       "      <td>Not-in-family</td>\n",
       "      <td>White</td>\n",
       "      <td>Male</td>\n",
       "      <td>2174</td>\n",
       "      <td>0</td>\n",
       "      <td>40</td>\n",
       "      <td>United-States</td>\n",
       "      <td>&lt;=50K</td>\n",
       "    </tr>\n",
       "    <tr>\n",
       "      <th>1</th>\n",
       "      <td>50</td>\n",
       "      <td>Self-emp-not-inc</td>\n",
       "      <td>83311</td>\n",
       "      <td>Bachelors</td>\n",
       "      <td>13</td>\n",
       "      <td>Married-civ-spouse</td>\n",
       "      <td>Exec-managerial</td>\n",
       "      <td>Husband</td>\n",
       "      <td>White</td>\n",
       "      <td>Male</td>\n",
       "      <td>0</td>\n",
       "      <td>0</td>\n",
       "      <td>13</td>\n",
       "      <td>United-States</td>\n",
       "      <td>&lt;=50K</td>\n",
       "    </tr>\n",
       "    <tr>\n",
       "      <th>2</th>\n",
       "      <td>38</td>\n",
       "      <td>Private</td>\n",
       "      <td>215646</td>\n",
       "      <td>HS-grad</td>\n",
       "      <td>9</td>\n",
       "      <td>Divorced</td>\n",
       "      <td>Handlers-cleaners</td>\n",
       "      <td>Not-in-family</td>\n",
       "      <td>White</td>\n",
       "      <td>Male</td>\n",
       "      <td>0</td>\n",
       "      <td>0</td>\n",
       "      <td>40</td>\n",
       "      <td>United-States</td>\n",
       "      <td>&lt;=50K</td>\n",
       "    </tr>\n",
       "    <tr>\n",
       "      <th>3</th>\n",
       "      <td>53</td>\n",
       "      <td>Private</td>\n",
       "      <td>234721</td>\n",
       "      <td>11th</td>\n",
       "      <td>7</td>\n",
       "      <td>Married-civ-spouse</td>\n",
       "      <td>Handlers-cleaners</td>\n",
       "      <td>Husband</td>\n",
       "      <td>Black</td>\n",
       "      <td>Male</td>\n",
       "      <td>0</td>\n",
       "      <td>0</td>\n",
       "      <td>40</td>\n",
       "      <td>United-States</td>\n",
       "      <td>&lt;=50K</td>\n",
       "    </tr>\n",
       "    <tr>\n",
       "      <th>4</th>\n",
       "      <td>28</td>\n",
       "      <td>Private</td>\n",
       "      <td>338409</td>\n",
       "      <td>Bachelors</td>\n",
       "      <td>13</td>\n",
       "      <td>Married-civ-spouse</td>\n",
       "      <td>Prof-specialty</td>\n",
       "      <td>Wife</td>\n",
       "      <td>Black</td>\n",
       "      <td>Female</td>\n",
       "      <td>0</td>\n",
       "      <td>0</td>\n",
       "      <td>40</td>\n",
       "      <td>Cuba</td>\n",
       "      <td>&lt;=50K</td>\n",
       "    </tr>\n",
       "  </tbody>\n",
       "</table>\n",
       "</div>"
      ],
      "text/plain": [
       "   age         workclass  fnlwgt  education  education_num  \\\n",
       "0   39         State-gov   77516  Bachelors             13   \n",
       "1   50  Self-emp-not-inc   83311  Bachelors             13   \n",
       "2   38           Private  215646    HS-grad              9   \n",
       "3   53           Private  234721       11th              7   \n",
       "4   28           Private  338409  Bachelors             13   \n",
       "\n",
       "       marital_status         occupation   relationship   race     sex  \\\n",
       "0       Never-married       Adm-clerical  Not-in-family  White    Male   \n",
       "1  Married-civ-spouse    Exec-managerial        Husband  White    Male   \n",
       "2            Divorced  Handlers-cleaners  Not-in-family  White    Male   \n",
       "3  Married-civ-spouse  Handlers-cleaners        Husband  Black    Male   \n",
       "4  Married-civ-spouse     Prof-specialty           Wife  Black  Female   \n",
       "\n",
       "   capital_gain  capital_loss  hours_per_week native_country wage_class  \n",
       "0          2174             0              40  United-States      <=50K  \n",
       "1             0             0              13  United-States      <=50K  \n",
       "2             0             0              40  United-States      <=50K  \n",
       "3             0             0              40  United-States      <=50K  \n",
       "4             0             0              40           Cuba      <=50K  "
      ]
     },
     "execution_count": 3,
     "metadata": {},
     "output_type": "execute_result"
    }
   ],
   "source": [
    "# Wczytaj dane treningowe i testowe\n",
    "import numpy as np\n",
    "import matplotlib.pyplot as plt\n",
    "import pandas as pd\n",
    "\n",
    "train_set = pd.read_csv('Dane/adult/adult.data', sep=\", \",header = None)\n",
    "test_set = pd.read_csv('Dane/adult/adult.test', sep=\", \",skiprows = 1, header = None) # Make sure to skip a row for the test set\n",
    "\n",
    "col_labels = ['age', 'workclass', 'fnlwgt', 'education', 'education_num', 'marital_status', 'occupation', \n",
    "              'relationship', 'race', 'sex', 'capital_gain', 'capital_loss', 'hours_per_week', 'native_country',\n",
    "             'wage_class']\n",
    "train_set.columns = col_labels\n",
    "test_set.columns = col_labels\n",
    "\n",
    "train = train_set.replace('?', np.nan).dropna()\n",
    "test = test_set.replace('?', np.nan).dropna()\n",
    "\n",
    "train_set.head()\n"
   ]
  },
  {
   "cell_type": "markdown",
   "metadata": {},
   "source": [
    "# Zad.\n",
    "Zróbmy szybki preprocesing"
   ]
  },
  {
   "cell_type": "code",
   "execution_count": 4,
   "metadata": {},
   "outputs": [],
   "source": [
    "dataset = pd.concat([train,test])\n",
    "\n",
    "dataset['wage_class'] = dataset.wage_class.replace({'<=50K.': 0,'<=50K':0, '>50K.':1, '>50K':1})\n",
    "\n",
    "dataset.drop([\"fnlwgt\"],axis=1,inplace=True)\n",
    "\n",
    "dataset.drop([\"education\"],axis=1,inplace=True)\n",
    "\n",
    "x = dataset.groupby('native_country')[\"wage_class\"].mean()\n",
    "\n",
    "d = dict(pd.cut(x[x.index!=\" United-States\"],5,labels=range(5)))\n",
    "\n",
    "dataset['native_country'] = dataset['native_country'].replace(d)\n",
    "\n",
    "dataset = pd.get_dummies(dataset,drop_first=True)\n",
    "\n",
    "train = dataset.iloc[:train.shape[0]]\n",
    "test = dataset.iloc[train.shape[0]:]\n",
    "\n",
    "X_train = train.drop(\"wage_class\",axis=1)\n",
    "y_train = train.wage_class\n",
    "\n",
    "X_test = test.drop(\"wage_class\",axis=1)\n",
    "y_test = test.wage_class\n"
   ]
  },
  {
   "cell_type": "markdown",
   "metadata": {},
   "source": [
    "# Zad\n",
    "Nauczmy model z BatchNormalization\n",
    "\n",
    "Pamiętaj, że \n",
    "\n",
    "* BatchNormalization powinno być dodane przed funkcją katywacji\n",
    "* ustaw parametr use_bias=False"
   ]
  },
  {
   "cell_type": "code",
   "execution_count": 5,
   "metadata": {},
   "outputs": [
    {
     "name": "stdout",
     "output_type": "stream",
     "text": [
      "Metal device set to: Apple M1\n",
      "Model: \"sequential\"\n",
      "_________________________________________________________________\n",
      " Layer (type)                Output Shape              Param #   \n",
      "=================================================================\n",
      " dense (Dense)               (None, 100)               4100      \n",
      "                                                                 \n",
      " batch_normalization (BatchN  (None, 100)              400       \n",
      " ormalization)                                                   \n",
      "                                                                 \n",
      " activation (Activation)     (None, 100)               0         \n",
      "                                                                 \n",
      " dense_1 (Dense)             (None, 50)                5000      \n",
      "                                                                 \n",
      " batch_normalization_1 (Batc  (None, 50)               200       \n",
      " hNormalization)                                                 \n",
      "                                                                 \n",
      " activation_1 (Activation)   (None, 50)                0         \n",
      "                                                                 \n",
      " dense_2 (Dense)             (None, 10)                500       \n",
      "                                                                 \n",
      " batch_normalization_2 (Batc  (None, 10)               40        \n",
      " hNormalization)                                                 \n",
      "                                                                 \n",
      " activation_2 (Activation)   (None, 10)                0         \n",
      "                                                                 \n",
      " dense_3 (Dense)             (None, 1)                 11        \n",
      "                                                                 \n",
      "=================================================================\n",
      "Total params: 10,251\n",
      "Trainable params: 9,931\n",
      "Non-trainable params: 320\n",
      "_________________________________________________________________\n"
     ]
    },
    {
     "name": "stderr",
     "output_type": "stream",
     "text": [
      "2022-06-01 21:21:11.132886: I tensorflow/core/common_runtime/pluggable_device/pluggable_device_factory.cc:305] Could not identify NUMA node of platform GPU ID 0, defaulting to 0. Your kernel may not have been built with NUMA support.\n",
      "2022-06-01 21:21:11.132982: I tensorflow/core/common_runtime/pluggable_device/pluggable_device_factory.cc:271] Created TensorFlow device (/job:localhost/replica:0/task:0/device:GPU:0 with 0 MB memory) -> physical PluggableDevice (device: 0, name: METAL, pci bus id: <undefined>)\n"
     ]
    }
   ],
   "source": [
    "from keras.models import Sequential\n",
    "from keras.layers import Dense\n",
    "from keras.layers import BatchNormalization\n",
    "from keras.layers import Activation\n",
    "\n",
    "from keras.callbacks import History\n",
    "\n",
    "history = History()\n",
    "model = Sequential()\n",
    "model.add(Dense(100, use_bias=False,input_shape=(X_train.shape[1],)))\n",
    "model.add(BatchNormalization())\n",
    "model.add(Activation(\"sigmoid\"))\n",
    "model.add(Dense(50, use_bias=False))\n",
    "model.add(BatchNormalization())\n",
    "model.add(Activation(\"sigmoid\"))\n",
    "model.add(Dense(10, use_bias=False))\n",
    "model.add(BatchNormalization())\n",
    "model.add(Activation(\"sigmoid\"))\n",
    "model.add(Dense(1,activation=\"sigmoid\"))\n",
    "model.summary()\n"
   ]
  },
  {
   "cell_type": "code",
   "execution_count": 6,
   "metadata": {},
   "outputs": [],
   "source": [
    "model.compile(loss=\"binary_crossentropy\",optimizer=\"Adam\", metrics=[\"accuracy\"])"
   ]
  },
  {
   "cell_type": "code",
   "execution_count": 7,
   "metadata": {},
   "outputs": [
    {
     "name": "stderr",
     "output_type": "stream",
     "text": [
      "2022-06-01 21:21:13.582924: W tensorflow/core/platform/profile_utils/cpu_utils.cc:128] Failed to get CPU frequency: 0 Hz\n"
     ]
    },
    {
     "name": "stdout",
     "output_type": "stream",
     "text": [
      "Epoch 1/5\n"
     ]
    },
    {
     "name": "stderr",
     "output_type": "stream",
     "text": [
      "2022-06-01 21:21:13.846248: I tensorflow/core/grappler/optimizers/custom_graph_optimizer_registry.cc:112] Plugin optimizer for device_type GPU is enabled.\n"
     ]
    },
    {
     "name": "stdout",
     "output_type": "stream",
     "text": [
      "943/943 [==============================] - ETA: 0s - loss: 0.4645 - accuracy: 0.7866"
     ]
    },
    {
     "name": "stderr",
     "output_type": "stream",
     "text": [
      "2022-06-01 21:21:22.967868: I tensorflow/core/grappler/optimizers/custom_graph_optimizer_registry.cc:112] Plugin optimizer for device_type GPU is enabled.\n"
     ]
    },
    {
     "name": "stdout",
     "output_type": "stream",
     "text": [
      "943/943 [==============================] - 11s 11ms/step - loss: 0.4645 - accuracy: 0.7866 - val_loss: 0.5205 - val_accuracy: 0.7543\n",
      "Epoch 2/5\n",
      "943/943 [==============================] - 10s 11ms/step - loss: 0.3798 - accuracy: 0.8186 - val_loss: 0.4704 - val_accuracy: 0.7734\n",
      "Epoch 3/5\n",
      "943/943 [==============================] - 10s 11ms/step - loss: 0.3753 - accuracy: 0.8191 - val_loss: 0.4772 - val_accuracy: 0.7612\n",
      "Epoch 4/5\n",
      "943/943 [==============================] - 10s 11ms/step - loss: 0.3661 - accuracy: 0.8263 - val_loss: 0.5250 - val_accuracy: 0.7811\n",
      "Epoch 5/5\n",
      "943/943 [==============================] - 11s 11ms/step - loss: 0.3706 - accuracy: 0.8200 - val_loss: 0.4440 - val_accuracy: 0.7957\n"
     ]
    }
   ],
   "source": [
    "history = model.fit(X_train, y_train, validation_data= (X_test, y_test), batch_size=32,epochs=5)"
   ]
  },
  {
   "cell_type": "code",
   "execution_count": 8,
   "metadata": {},
   "outputs": [
    {
     "data": {
      "image/png": "[encoded data removed]",
      "text/plain": [
       "<Figure size 576x360 with 1 Axes>"
      ]
     },
     "metadata": {
      "needs_background": "light"
     },
     "output_type": "display_data"
    }
   ],
   "source": [
    "import pandas as pd\n",
    "\n",
    "pd.DataFrame(history.history).plot(figsize=(8, 5))\n",
    "plt.grid(True)\n",
    "plt.gca().set_ylim(0, 1)\n",
    "plt.show()"
   ]
  },
  {
   "cell_type": "code",
   "execution_count": 9,
   "metadata": {},
   "outputs": [
    {
     "name": "stdout",
     "output_type": "stream",
     "text": [
      "471/471 [==============================] - 2s 4ms/step - loss: 0.4440 - accuracy: 0.7957\n"
     ]
    },
    {
     "data": {
      "text/plain": [
       "[0.4440133273601532, 0.7956839799880981]"
      ]
     },
     "execution_count": 9,
     "metadata": {},
     "output_type": "execute_result"
    }
   ],
   "source": [
    "model.evaluate(X_test,y_test)"
   ]
  },
  {
   "cell_type": "code",
   "execution_count": 10,
   "metadata": {},
   "outputs": [
    {
     "name": "stderr",
     "output_type": "stream",
     "text": [
      "2022-06-01 21:22:08.119866: I tensorflow/core/grappler/optimizers/custom_graph_optimizer_registry.cc:112] Plugin optimizer for device_type GPU is enabled.\n"
     ]
    },
    {
     "data": {
      "text/plain": [
       "0.7956839309428951"
      ]
     },
     "execution_count": 10,
     "metadata": {},
     "output_type": "execute_result"
    }
   ],
   "source": [
    "from sklearn import  metrics\n",
    "metrics.accuracy_score(y_true= y_test, y_pred= (model.predict(X_test) > 0.5).astype(\"int32\") )"
   ]
  },
  {
   "cell_type": "markdown",
   "metadata": {},
   "source": [
    "# Zad.\n",
    "Do poniższego modelu dodaj\n",
    " \n",
    "```python\n",
    "model.add(BatchNormalization())\n",
    "model.add(Activation(\"sigmoid\"))\n",
    "```\n",
    "\n",
    "w każdej warstwie.\n",
    "\n",
    "Zwizualizuj wyniki:\n",
    "\n",
    "* porównaj krzywe uczenia\n",
    "* narysuj granice decyzyjne (dane są w 2D)\n",
    "\n",
    "\n"
   ]
  },
  {
   "cell_type": "code",
   "execution_count": 11,
   "metadata": {},
   "outputs": [
    {
     "data": {
      "image/png": "[encoded data removed]",
      "text/plain": [
       "<Figure size 432x288 with 1 Axes>"
      ]
     },
     "metadata": {
      "needs_background": "light"
     },
     "output_type": "display_data"
    }
   ],
   "source": [
    "from sklearn.datasets import make_moons\n",
    "# generate 2d classification dataset\n",
    "X, y = make_moons(n_samples=100, noise=0.2, random_state=5)\n",
    "# split into train and test\n",
    "# n_train = 30\n",
    "# from sklearn.model_selection import train_test_split\n",
    "# X_train, X_test, y_train, y_test = train_test_split(X, y, test_size=0.70, random_state=2)\n",
    "\n",
    "n_train=53\n",
    "X_train, X_test = X[:n_train, :], X[n_train:, :]\n",
    "y_train, y_test = y[:n_train], y[n_train:]\n",
    "\n",
    "plt.scatter(X_train[:,0],X_train[:,1], c=y_train)\n",
    "plt.show()"
   ]
  },
  {
   "cell_type": "code",
   "execution_count": 16,
   "metadata": {},
   "outputs": [
    {
     "name": "stdout",
     "output_type": "stream",
     "text": [
      "Model: \"sequential_3\"\n",
      "_________________________________________________________________\n",
      " Layer (type)                Output Shape              Param #   \n",
      "=================================================================\n",
      " dense_12 (Dense)            (None, 1000)              3000      \n",
      "                                                                 \n",
      " batch_normalization_9 (Batc  (None, 1000)             4000      \n",
      " hNormalization)                                                 \n",
      "                                                                 \n",
      " activation_9 (Activation)   (None, 1000)              0         \n",
      "                                                                 \n",
      " dense_13 (Dense)            (None, 500)               500500    \n",
      "                                                                 \n",
      " batch_normalization_10 (Bat  (None, 500)              2000      \n",
      " chNormalization)                                                \n",
      "                                                                 \n",
      " activation_10 (Activation)  (None, 500)               0         \n",
      "                                                                 \n",
      " dense_14 (Dense)            (None, 200)               100200    \n",
      "                                                                 \n",
      " batch_normalization_11 (Bat  (None, 200)              800       \n",
      " chNormalization)                                                \n",
      "                                                                 \n",
      " activation_11 (Activation)  (None, 200)               0         \n",
      "                                                                 \n",
      " dense_15 (Dense)            (None, 1)                 201       \n",
      "                                                                 \n",
      "=================================================================\n",
      "Total params: 610,701\n",
      "Trainable params: 607,301\n",
      "Non-trainable params: 3,400\n",
      "_________________________________________________________________\n",
      "Epoch 1/100\n"
     ]
    },
    {
     "name": "stderr",
     "output_type": "stream",
     "text": [
      "2022-06-01 21:29:45.590996: I tensorflow/core/grappler/optimizers/custom_graph_optimizer_registry.cc:112] Plugin optimizer for device_type GPU is enabled.\n"
     ]
    },
    {
     "name": "stdout",
     "output_type": "stream",
     "text": [
      "2/2 [==============================] - 1s 268ms/step - loss: 0.6092 - accuracy: 0.5849 - val_loss: 0.7010 - val_accuracy: 0.4468\n",
      "Epoch 2/100\n",
      "1/2 [==============>...............] - ETA: 0s - loss: 0.2472 - accuracy: 0.9375"
     ]
    },
    {
     "name": "stderr",
     "output_type": "stream",
     "text": [
      "2022-06-01 21:29:46.081245: I tensorflow/core/grappler/optimizers/custom_graph_optimizer_registry.cc:112] Plugin optimizer for device_type GPU is enabled.\n"
     ]
    },
    {
     "name": "stdout",
     "output_type": "stream",
     "text": [
      "2/2 [==============================] - 0s 54ms/step - loss: 0.2573 - accuracy: 0.9057 - val_loss: 0.7118 - val_accuracy: 0.4468\n",
      "Epoch 3/100\n",
      "2/2 [==============================] - 0s 46ms/step - loss: 0.2197 - accuracy: 0.9057 - val_loss: 0.7236 - val_accuracy: 0.4468\n",
      "Epoch 4/100\n",
      "2/2 [==============================] - 0s 38ms/step - loss: 0.2779 - accuracy: 0.8868 - val_loss: 0.7282 - val_accuracy: 0.4468\n",
      "Epoch 5/100\n",
      "2/2 [==============================] - 0s 46ms/step - loss: 0.2471 - accuracy: 0.9245 - val_loss: 0.7228 - val_accuracy: 0.4468\n",
      "Epoch 6/100\n",
      "2/2 [==============================] - 0s 42ms/step - loss: 0.2016 - accuracy: 0.9245 - val_loss: 0.7213 - val_accuracy: 0.4468\n",
      "Epoch 7/100\n",
      "2/2 [==============================] - 0s 38ms/step - loss: 0.1766 - accuracy: 0.9245 - val_loss: 0.7226 - val_accuracy: 0.4468\n",
      "Epoch 8/100\n",
      "2/2 [==============================] - 0s 41ms/step - loss: 0.1795 - accuracy: 0.9245 - val_loss: 0.7228 - val_accuracy: 0.4468\n",
      "Epoch 9/100\n",
      "2/2 [==============================] - 0s 44ms/step - loss: 0.2224 - accuracy: 0.9057 - val_loss: 0.7224 - val_accuracy: 0.4468\n",
      "Epoch 10/100\n",
      "2/2 [==============================] - 0s 39ms/step - loss: 0.1940 - accuracy: 0.9057 - val_loss: 0.7275 - val_accuracy: 0.4468\n",
      "Epoch 11/100\n",
      "2/2 [==============================] - 0s 44ms/step - loss: 0.2249 - accuracy: 0.9057 - val_loss: 0.7312 - val_accuracy: 0.4468\n",
      "Epoch 12/100\n",
      "2/2 [==============================] - 0s 41ms/step - loss: 0.2358 - accuracy: 0.8868 - val_loss: 0.7315 - val_accuracy: 0.4468\n",
      "Epoch 13/100\n",
      "2/2 [==============================] - 0s 39ms/step - loss: 0.1483 - accuracy: 0.9245 - val_loss: 0.7292 - val_accuracy: 0.4468\n",
      "Epoch 14/100\n",
      "2/2 [==============================] - 0s 42ms/step - loss: 0.1507 - accuracy: 0.9623 - val_loss: 0.7305 - val_accuracy: 0.4468\n",
      "Epoch 15/100\n",
      "2/2 [==============================] - 0s 38ms/step - loss: 0.1490 - accuracy: 0.9623 - val_loss: 0.7354 - val_accuracy: 0.4468\n",
      "Epoch 16/100\n",
      "2/2 [==============================] - 0s 41ms/step - loss: 0.1254 - accuracy: 0.9811 - val_loss: 0.7444 - val_accuracy: 0.4468\n",
      "Epoch 17/100\n",
      "2/2 [==============================] - 0s 43ms/step - loss: 0.1186 - accuracy: 0.9434 - val_loss: 0.7547 - val_accuracy: 0.4468\n",
      "Epoch 18/100\n",
      "2/2 [==============================] - 0s 41ms/step - loss: 0.1351 - accuracy: 0.9434 - val_loss: 0.7637 - val_accuracy: 0.4468\n",
      "Epoch 19/100\n",
      "2/2 [==============================] - 0s 39ms/step - loss: 0.1255 - accuracy: 0.9811 - val_loss: 0.7754 - val_accuracy: 0.4468\n",
      "Epoch 20/100\n",
      "2/2 [==============================] - 0s 44ms/step - loss: 0.1504 - accuracy: 0.9434 - val_loss: 0.7876 - val_accuracy: 0.4468\n",
      "Epoch 21/100\n",
      "2/2 [==============================] - 0s 36ms/step - loss: 0.1000 - accuracy: 0.9811 - val_loss: 0.7959 - val_accuracy: 0.4468\n",
      "Epoch 22/100\n",
      "2/2 [==============================] - 0s 41ms/step - loss: 0.0951 - accuracy: 0.9811 - val_loss: 0.8072 - val_accuracy: 0.4468\n",
      "Epoch 23/100\n",
      "2/2 [==============================] - 0s 43ms/step - loss: 0.1116 - accuracy: 0.9623 - val_loss: 0.8209 - val_accuracy: 0.4468\n",
      "Epoch 24/100\n",
      "2/2 [==============================] - 0s 37ms/step - loss: 0.1003 - accuracy: 0.9623 - val_loss: 0.8348 - val_accuracy: 0.4468\n",
      "Epoch 25/100\n",
      "2/2 [==============================] - 0s 35ms/step - loss: 0.1286 - accuracy: 0.9811 - val_loss: 0.8509 - val_accuracy: 0.4468\n",
      "Epoch 26/100\n",
      "2/2 [==============================] - 0s 33ms/step - loss: 0.0966 - accuracy: 0.9623 - val_loss: 0.8747 - val_accuracy: 0.4468\n",
      "Epoch 27/100\n",
      "2/2 [==============================] - 0s 34ms/step - loss: 0.0859 - accuracy: 0.9811 - val_loss: 0.9007 - val_accuracy: 0.4468\n",
      "Epoch 28/100\n",
      "2/2 [==============================] - 0s 36ms/step - loss: 0.0772 - accuracy: 0.9811 - val_loss: 0.9279 - val_accuracy: 0.4468\n",
      "Epoch 29/100\n",
      "2/2 [==============================] - 0s 35ms/step - loss: 0.0817 - accuracy: 0.9811 - val_loss: 0.9517 - val_accuracy: 0.4468\n",
      "Epoch 30/100\n",
      "2/2 [==============================] - 0s 35ms/step - loss: 0.0742 - accuracy: 0.9811 - val_loss: 0.9781 - val_accuracy: 0.4468\n",
      "Epoch 31/100\n",
      "2/2 [==============================] - 0s 33ms/step - loss: 0.0934 - accuracy: 0.9811 - val_loss: 0.9991 - val_accuracy: 0.4468\n",
      "Epoch 32/100\n",
      "2/2 [==============================] - 0s 33ms/step - loss: 0.0648 - accuracy: 1.0000 - val_loss: 1.0121 - val_accuracy: 0.4468\n",
      "Epoch 33/100\n",
      "2/2 [==============================] - 0s 33ms/step - loss: 0.0730 - accuracy: 0.9811 - val_loss: 1.0280 - val_accuracy: 0.4468\n",
      "Epoch 34/100\n",
      "2/2 [==============================] - 0s 34ms/step - loss: 0.0613 - accuracy: 1.0000 - val_loss: 1.0408 - val_accuracy: 0.4468\n",
      "Epoch 35/100\n",
      "2/2 [==============================] - 0s 34ms/step - loss: 0.0900 - accuracy: 0.9623 - val_loss: 1.0581 - val_accuracy: 0.4468\n",
      "Epoch 36/100\n",
      "2/2 [==============================] - 0s 34ms/step - loss: 0.0632 - accuracy: 1.0000 - val_loss: 1.0847 - val_accuracy: 0.4468\n",
      "Epoch 37/100\n",
      "2/2 [==============================] - 0s 34ms/step - loss: 0.0653 - accuracy: 1.0000 - val_loss: 1.1026 - val_accuracy: 0.4468\n",
      "Epoch 38/100\n",
      "2/2 [==============================] - 0s 33ms/step - loss: 0.1202 - accuracy: 0.9623 - val_loss: 1.1175 - val_accuracy: 0.4468\n",
      "Epoch 39/100\n",
      "2/2 [==============================] - 0s 37ms/step - loss: 0.0410 - accuracy: 1.0000 - val_loss: 1.1412 - val_accuracy: 0.4468\n",
      "Epoch 40/100\n",
      "2/2 [==============================] - 0s 33ms/step - loss: 0.0601 - accuracy: 1.0000 - val_loss: 1.1593 - val_accuracy: 0.4468\n",
      "Epoch 41/100\n",
      "2/2 [==============================] - 0s 34ms/step - loss: 0.0970 - accuracy: 0.9623 - val_loss: 1.1764 - val_accuracy: 0.4468\n",
      "Epoch 42/100\n",
      "2/2 [==============================] - 0s 36ms/step - loss: 0.0472 - accuracy: 1.0000 - val_loss: 1.1968 - val_accuracy: 0.4468\n",
      "Epoch 43/100\n",
      "2/2 [==============================] - 0s 33ms/step - loss: 0.1977 - accuracy: 0.9057 - val_loss: 1.2165 - val_accuracy: 0.4468\n",
      "Epoch 44/100\n",
      "2/2 [==============================] - 0s 33ms/step - loss: 0.0552 - accuracy: 0.9811 - val_loss: 1.2489 - val_accuracy: 0.4468\n",
      "Epoch 45/100\n",
      "2/2 [==============================] - 0s 33ms/step - loss: 0.0815 - accuracy: 0.9811 - val_loss: 1.2690 - val_accuracy: 0.4468\n",
      "Epoch 46/100\n",
      "2/2 [==============================] - 0s 32ms/step - loss: 0.0612 - accuracy: 0.9811 - val_loss: 1.2893 - val_accuracy: 0.4468\n",
      "Epoch 47/100\n",
      "2/2 [==============================] - 0s 34ms/step - loss: 0.0488 - accuracy: 0.9811 - val_loss: 1.2981 - val_accuracy: 0.4468\n",
      "Epoch 48/100\n",
      "2/2 [==============================] - 0s 33ms/step - loss: 0.0566 - accuracy: 0.9811 - val_loss: 1.3000 - val_accuracy: 0.4468\n",
      "Epoch 49/100\n",
      "2/2 [==============================] - 0s 35ms/step - loss: 0.0473 - accuracy: 1.0000 - val_loss: 1.3028 - val_accuracy: 0.4468\n",
      "Epoch 50/100\n",
      "2/2 [==============================] - 0s 33ms/step - loss: 0.1309 - accuracy: 0.9434 - val_loss: 1.2991 - val_accuracy: 0.4468\n",
      "Epoch 51/100\n",
      "2/2 [==============================] - 0s 40ms/step - loss: 0.0654 - accuracy: 1.0000 - val_loss: 1.2869 - val_accuracy: 0.4468\n",
      "Epoch 52/100\n",
      "2/2 [==============================] - 0s 36ms/step - loss: 0.0471 - accuracy: 1.0000 - val_loss: 1.2563 - val_accuracy: 0.4468\n",
      "Epoch 53/100\n",
      "2/2 [==============================] - 0s 34ms/step - loss: 0.0654 - accuracy: 0.9811 - val_loss: 1.2225 - val_accuracy: 0.4468\n",
      "Epoch 54/100\n",
      "2/2 [==============================] - 0s 34ms/step - loss: 0.1017 - accuracy: 0.9434 - val_loss: 1.1840 - val_accuracy: 0.4468\n",
      "Epoch 55/100\n",
      "2/2 [==============================] - 0s 34ms/step - loss: 0.0780 - accuracy: 0.9811 - val_loss: 1.1468 - val_accuracy: 0.4468\n",
      "Epoch 56/100\n",
      "2/2 [==============================] - 0s 35ms/step - loss: 0.0400 - accuracy: 1.0000 - val_loss: 1.1198 - val_accuracy: 0.4468\n",
      "Epoch 57/100\n",
      "2/2 [==============================] - 0s 35ms/step - loss: 0.0654 - accuracy: 0.9811 - val_loss: 1.1014 - val_accuracy: 0.4468\n",
      "Epoch 58/100\n",
      "2/2 [==============================] - 0s 35ms/step - loss: 0.0501 - accuracy: 0.9811 - val_loss: 1.0868 - val_accuracy: 0.4468\n",
      "Epoch 59/100\n",
      "2/2 [==============================] - 0s 37ms/step - loss: 0.0398 - accuracy: 1.0000 - val_loss: 1.0818 - val_accuracy: 0.4468\n",
      "Epoch 60/100\n"
     ]
    },
    {
     "name": "stdout",
     "output_type": "stream",
     "text": [
      "2/2 [==============================] - 0s 35ms/step - loss: 0.0360 - accuracy: 1.0000 - val_loss: 1.0891 - val_accuracy: 0.4468\n",
      "Epoch 61/100\n",
      "2/2 [==============================] - 0s 35ms/step - loss: 0.0810 - accuracy: 0.9623 - val_loss: 1.1038 - val_accuracy: 0.4468\n",
      "Epoch 62/100\n",
      "2/2 [==============================] - 0s 33ms/step - loss: 0.0402 - accuracy: 1.0000 - val_loss: 1.1084 - val_accuracy: 0.4468\n",
      "Epoch 63/100\n",
      "2/2 [==============================] - 0s 33ms/step - loss: 0.0493 - accuracy: 0.9811 - val_loss: 1.1241 - val_accuracy: 0.4468\n",
      "Epoch 64/100\n",
      "2/2 [==============================] - 0s 32ms/step - loss: 0.0363 - accuracy: 1.0000 - val_loss: 1.1389 - val_accuracy: 0.4468\n",
      "Epoch 65/100\n",
      "2/2 [==============================] - 0s 33ms/step - loss: 0.0412 - accuracy: 1.0000 - val_loss: 1.1538 - val_accuracy: 0.4468\n",
      "Epoch 66/100\n",
      "2/2 [==============================] - 0s 33ms/step - loss: 0.0361 - accuracy: 1.0000 - val_loss: 1.1718 - val_accuracy: 0.4468\n",
      "Epoch 67/100\n",
      "2/2 [==============================] - 0s 32ms/step - loss: 0.0606 - accuracy: 0.9623 - val_loss: 1.1949 - val_accuracy: 0.4468\n",
      "Epoch 68/100\n",
      "2/2 [==============================] - 0s 33ms/step - loss: 0.0921 - accuracy: 0.9623 - val_loss: 1.2139 - val_accuracy: 0.4468\n",
      "Epoch 69/100\n",
      "2/2 [==============================] - 0s 33ms/step - loss: 0.0535 - accuracy: 0.9623 - val_loss: 1.2392 - val_accuracy: 0.4468\n",
      "Epoch 70/100\n",
      "2/2 [==============================] - 0s 34ms/step - loss: 0.0324 - accuracy: 1.0000 - val_loss: 1.2653 - val_accuracy: 0.4468\n",
      "Epoch 71/100\n",
      "2/2 [==============================] - 0s 32ms/step - loss: 0.0331 - accuracy: 1.0000 - val_loss: 1.2858 - val_accuracy: 0.4468\n",
      "Epoch 72/100\n",
      "2/2 [==============================] - 0s 34ms/step - loss: 0.0278 - accuracy: 1.0000 - val_loss: 1.3028 - val_accuracy: 0.4468\n",
      "Epoch 73/100\n",
      "2/2 [==============================] - 0s 32ms/step - loss: 0.0590 - accuracy: 0.9811 - val_loss: 1.3122 - val_accuracy: 0.4468\n",
      "Epoch 74/100\n",
      "2/2 [==============================] - 0s 33ms/step - loss: 0.0564 - accuracy: 0.9811 - val_loss: 1.3135 - val_accuracy: 0.4468\n",
      "Epoch 75/100\n",
      "2/2 [==============================] - 0s 32ms/step - loss: 0.0721 - accuracy: 0.9811 - val_loss: 1.2970 - val_accuracy: 0.4468\n",
      "Epoch 76/100\n",
      "2/2 [==============================] - 0s 33ms/step - loss: 0.0327 - accuracy: 1.0000 - val_loss: 1.2784 - val_accuracy: 0.4468\n",
      "Epoch 77/100\n",
      "2/2 [==============================] - 0s 33ms/step - loss: 0.0443 - accuracy: 1.0000 - val_loss: 1.2615 - val_accuracy: 0.4468\n",
      "Epoch 78/100\n",
      "2/2 [==============================] - 0s 33ms/step - loss: 0.0915 - accuracy: 0.9434 - val_loss: 1.2400 - val_accuracy: 0.4468\n",
      "Epoch 79/100\n",
      "2/2 [==============================] - 0s 33ms/step - loss: 0.0529 - accuracy: 0.9811 - val_loss: 1.2216 - val_accuracy: 0.4468\n",
      "Epoch 80/100\n",
      "2/2 [==============================] - 0s 33ms/step - loss: 0.0662 - accuracy: 0.9811 - val_loss: 1.1994 - val_accuracy: 0.4468\n",
      "Epoch 81/100\n",
      "2/2 [==============================] - 0s 34ms/step - loss: 0.0269 - accuracy: 1.0000 - val_loss: 1.1833 - val_accuracy: 0.4468\n",
      "Epoch 82/100\n",
      "2/2 [==============================] - 0s 32ms/step - loss: 0.0225 - accuracy: 1.0000 - val_loss: 1.1661 - val_accuracy: 0.4468\n",
      "Epoch 83/100\n",
      "2/2 [==============================] - 0s 33ms/step - loss: 0.0454 - accuracy: 0.9811 - val_loss: 1.1470 - val_accuracy: 0.4468\n",
      "Epoch 84/100\n",
      "2/2 [==============================] - 0s 33ms/step - loss: 0.0273 - accuracy: 1.0000 - val_loss: 1.1296 - val_accuracy: 0.4468\n",
      "Epoch 85/100\n",
      "2/2 [==============================] - 0s 34ms/step - loss: 0.0475 - accuracy: 0.9811 - val_loss: 1.1150 - val_accuracy: 0.4468\n",
      "Epoch 86/100\n",
      "2/2 [==============================] - 0s 33ms/step - loss: 0.0312 - accuracy: 1.0000 - val_loss: 1.1101 - val_accuracy: 0.4468\n",
      "Epoch 87/100\n",
      "2/2 [==============================] - 0s 33ms/step - loss: 0.0517 - accuracy: 0.9811 - val_loss: 1.1123 - val_accuracy: 0.4468\n",
      "Epoch 88/100\n",
      "2/2 [==============================] - 0s 33ms/step - loss: 0.0273 - accuracy: 1.0000 - val_loss: 1.1066 - val_accuracy: 0.4468\n",
      "Epoch 89/100\n",
      "2/2 [==============================] - 0s 32ms/step - loss: 0.0235 - accuracy: 1.0000 - val_loss: 1.1064 - val_accuracy: 0.4468\n",
      "Epoch 90/100\n",
      "2/2 [==============================] - 0s 33ms/step - loss: 0.0270 - accuracy: 0.9811 - val_loss: 1.1150 - val_accuracy: 0.4468\n",
      "Epoch 91/100\n",
      "2/2 [==============================] - 0s 32ms/step - loss: 0.0209 - accuracy: 1.0000 - val_loss: 1.1252 - val_accuracy: 0.4468\n",
      "Epoch 92/100\n",
      "2/2 [==============================] - 0s 34ms/step - loss: 0.0297 - accuracy: 1.0000 - val_loss: 1.1367 - val_accuracy: 0.4468\n",
      "Epoch 93/100\n",
      "2/2 [==============================] - 0s 33ms/step - loss: 0.0210 - accuracy: 1.0000 - val_loss: 1.1497 - val_accuracy: 0.4468\n",
      "Epoch 94/100\n",
      "2/2 [==============================] - 0s 33ms/step - loss: 0.0400 - accuracy: 0.9811 - val_loss: 1.1691 - val_accuracy: 0.4468\n",
      "Epoch 95/100\n",
      "2/2 [==============================] - 0s 34ms/step - loss: 0.0241 - accuracy: 1.0000 - val_loss: 1.1937 - val_accuracy: 0.4468\n",
      "Epoch 96/100\n",
      "2/2 [==============================] - 0s 34ms/step - loss: 0.0339 - accuracy: 0.9811 - val_loss: 1.2105 - val_accuracy: 0.4468\n",
      "Epoch 97/100\n",
      "2/2 [==============================] - 0s 33ms/step - loss: 0.0217 - accuracy: 1.0000 - val_loss: 1.2143 - val_accuracy: 0.4468\n",
      "Epoch 98/100\n",
      "2/2 [==============================] - 0s 33ms/step - loss: 0.0189 - accuracy: 1.0000 - val_loss: 1.2163 - val_accuracy: 0.4468\n",
      "Epoch 99/100\n",
      "2/2 [==============================] - 0s 33ms/step - loss: 0.0295 - accuracy: 1.0000 - val_loss: 1.2253 - val_accuracy: 0.4468\n",
      "Epoch 100/100\n",
      "2/2 [==============================] - 0s 35ms/step - loss: 0.0309 - accuracy: 1.0000 - val_loss: 1.2400 - val_accuracy: 0.4468\n"
     ]
    },
    {
     "data": {
      "text/plain": [
       "<keras.callbacks.History at 0x17bc23e50>"
      ]
     },
     "execution_count": 16,
     "metadata": {},
     "output_type": "execute_result"
    }
   ],
   "source": [
    "from keras.callbacks import History\n",
    "\n",
    "\n",
    "history_Adam = History()\n",
    "model = Sequential()\n",
    "model.add(Dense(1000,activation=\"relu\",input_shape=(X_train.shape[1],)))\n",
    "model.add(BatchNormalization())\n",
    "model.add(Activation(\"sigmoid\"))\n",
    "model.add(Dense(500,activation=\"sigmoid\"))\n",
    "model.add(BatchNormalization())\n",
    "model.add(Activation(\"sigmoid\"))\n",
    "model.add(Dense(200,activation=\"sigmoid\"))\n",
    "model.add(BatchNormalization())\n",
    "model.add(Activation(\"sigmoid\"))\n",
    "model.add(Dense(1,activation=\"sigmoid\"))\n",
    "model.summary()\n",
    "\n",
    "model.compile(loss=\"binary_crossentropy\",optimizer=\"adam\", metrics=[\"accuracy\"])\n",
    "\n",
    "model.fit(X_train, y_train, validation_data= (X_test, y_test), epochs=100, callbacks=[history_Adam])\n"
   ]
  },
  {
   "cell_type": "code",
   "execution_count": 19,
   "metadata": {},
   "outputs": [
    {
     "data": {
      "image/png": "[encoded data removed]",
      "text/plain": [
       "<Figure size 432x288 with 1 Axes>"
      ]
     },
     "metadata": {
      "needs_background": "light"
     },
     "output_type": "display_data"
    }
   ],
   "source": [
    "plt.plot(history_Adam.history['loss'], label = \"loss\")\n",
    "plt.plot(history_Adam.history['val_loss'], label = \"val_loss \")\n",
    "\n",
    "\n",
    "plt.legend()\n",
    "plt.show()"
   ]
  },
  {
   "cell_type": "code",
   "execution_count": 20,
   "metadata": {},
   "outputs": [
    {
     "data": {
      "image/png": "[encoded data removed]",
      "text/plain": [
       "<Figure size 432x288 with 1 Axes>"
      ]
     },
     "metadata": {
      "needs_background": "light"
     },
     "output_type": "display_data"
    }
   ],
   "source": [
    "from mlxtend.plotting import plot_decision_regions\n",
    "plot_decision_regions(X_test, y_test, model)\n",
    "plt.show()"
   ]
  },
  {
   "cell_type": "code",
   "execution_count": null,
   "metadata": {},
   "outputs": [],
   "source": []
  },
  {
   "cell_type": "code",
   "execution_count": null,
   "metadata": {},
   "outputs": [],
   "source": []
  },
  {
   "cell_type": "code",
   "execution_count": 2,
   "metadata": {},
   "outputs": [],
   "source": [
    "from mlxtend.plotting import plot_decision_regions"
   ]
  },
  {
   "cell_type": "code",
   "execution_count": null,
   "metadata": {},
   "outputs": [],
   "source": []
  },
  {
   "cell_type": "code",
   "execution_count": null,
   "metadata": {},
   "outputs": [],
   "source": []
  },
  {
   "cell_type": "code",
   "execution_count": null,
   "metadata": {},
   "outputs": [],
   "source": []
  }
 ],
 "metadata": {
  "kernelspec": {
   "display_name": "Python 3 (ipykernel)",
   "language": "python",
   "name": "python3"
  },
  "language_info": {
   "codemirror_mode": {
    "name": "ipython",
    "version": 3
   },
   "file_extension": ".py",
   "mimetype": "text/x-python",
   "name": "python",
   "nbconvert_exporter": "python",
   "pygments_lexer": "ipython3",
   "version": "3.9.12"
  }
 },
 "nbformat": 4,
 "nbformat_minor": 4
}
