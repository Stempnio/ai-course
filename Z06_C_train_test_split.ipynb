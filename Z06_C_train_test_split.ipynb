{
 "cells": [
  {
   "cell_type": "markdown",
   "metadata": {},
   "source": [
    "# Train test split\n"
   ]
  },
  {
   "cell_type": "code",
   "execution_count": 2,
   "metadata": {},
   "outputs": [],
   "source": [
    "import numpy as np\n",
    "import pandas as pd\n",
    "import scipy.stats as stats\n",
    "import sklearn.linear_model as lm\n",
    "from sklearn import datasets, linear_model\n",
    "import matplotlib.pyplot as plt\n",
    "\n",
    "from sklearn.preprocessing import PolynomialFeatures\n",
    "from sklearn.pipeline import make_pipeline\n",
    "\n",
    "from sklearn import  metrics"
   ]
  },
  {
   "cell_type": "markdown",
   "metadata": {},
   "source": [
    "Rozważmy następujący zbiór punktów:"
   ]
  },
  {
   "cell_type": "code",
   "execution_count": 3,
   "metadata": {},
   "outputs": [
    {
     "data": {
      "image/png": "[encoded data removed]",
      "text/plain": [
       "<Figure size 432x288 with 1 Axes>"
      ]
     },
     "metadata": {
      "needs_background": "light"
     },
     "output_type": "display_data"
    }
   ],
   "source": [
    "x = stats.uniform(0,3).rvs(100)\n",
    "f = lambda x: ((x*2-1)*(x**2-2)*(x-2)+3)\n",
    "y = f(x) + stats.norm(0,0.3).rvs(len(x))\n",
    "plt.plot(x, y, 'ok', ms=10);\n",
    "plt.show()"
   ]
  },
  {
   "cell_type": "markdown",
   "metadata": {},
   "source": [
    "# Przykład\n",
    "Podziel zbiór danych na część testową i treningową. \n",
    "Naucz model na części treningowej i ocen wyniki na części testowej."
   ]
  },
  {
   "cell_type": "code",
   "execution_count": 4,
   "metadata": {},
   "outputs": [
    {
     "name": "stdout",
     "output_type": "stream",
     "text": [
      "(60,) (60,)\n",
      "(40,) (40,)\n"
     ]
    }
   ],
   "source": [
    "from sklearn.model_selection import train_test_split\n",
    "X_train, X_test, y_train, y_test = train_test_split(x, y, test_size=0.4, random_state=0)\n",
    "\n",
    "print(X_train.shape, y_train.shape)\n",
    "print(X_test.shape, y_test.shape)"
   ]
  },
  {
   "cell_type": "code",
   "execution_count": 5,
   "metadata": {},
   "outputs": [],
   "source": [
    "X_train=np.vstack(X_train)\n",
    "X_test=np.vstack(X_test)"
   ]
  },
  {
   "cell_type": "code",
   "execution_count": 6,
   "metadata": {},
   "outputs": [
    {
     "data": {
      "text/plain": [
       "array([ 6.06530488, -0.32739924, 25.74588974, -0.47309117,  0.98696509,\n",
       "        7.75470921, 20.89684773, 12.74240736, -0.53874126, 15.07119827,\n",
       "        0.61543045, -0.37447057, -0.34807072,  3.72196285,  7.87411374,\n",
       "       14.52518006, 10.11353393,  2.91059267, 14.49313168,  0.14039539,\n",
       "        5.7262247 , -0.57090222,  5.80283757,  2.10107086, 18.58492387,\n",
       "        5.92532166, 20.22991259, -0.49579756,  8.20171074, 18.73428409,\n",
       "        0.24063351,  4.36550962,  4.89621012,  3.24064329, 16.02106206,\n",
       "        4.70452092,  6.75426275,  0.03754571, -0.32226443, -0.35896824])"
      ]
     },
     "execution_count": 6,
     "metadata": {},
     "output_type": "execute_result"
    }
   ],
   "source": [
    "model2 = make_pipeline(PolynomialFeatures(2), linear_model.LinearRegression())\n",
    "model2.fit(X_train, y_train)\n",
    "model2.predict(X_test)"
   ]
  },
  {
   "cell_type": "code",
   "execution_count": 7,
   "metadata": {},
   "outputs": [
    {
     "name": "stdout",
     "output_type": "stream",
     "text": [
      "Explained variance score: 0.7393298004425557\n",
      "Explained variance score: 0.7393298004425557\n",
      "Median absolute error: 3.332300044076589\n",
      "Mean squared error: 13.703753645161015\n",
      "Mean absolute errors: 3.268389858662174\n"
     ]
    }
   ],
   "source": [
    "print(\"Explained variance score: {}\".format( metrics.explained_variance_score(y_test, model2.predict(X_test)) ))\n",
    "print(\"Explained variance score: {}\".format( metrics.explained_variance_score(y_test, model2.predict(X_test)) ))\n",
    "print(\"Median absolute error: {}\".format( metrics.median_absolute_error(y_test, model2.predict(X_test)) ))\n",
    "print(\"Mean squared error: {}\".format( metrics.mean_squared_error(y_test, model2.predict(X_test)) ))\n",
    "print(\"Mean absolute errors: {}\".format(metrics.mean_absolute_error(y_test, model2.predict(X_test)) ))"
   ]
  },
  {
   "cell_type": "markdown",
   "metadata": {},
   "source": [
    "# Zadanie\n",
    "Wylicz powyższe miary na zbiorze testowym dla wszystkich modeli nauczonych na trainie:\n",
    "\n",
    "- regrsji linowej\n",
    "- regrsji wielomianowej stopnia 2\n",
    "- regrsji wielomianowej stopnia 3\n",
    "- regrsji wielomianowej stopnia 4\n",
    "- regrsji wielomianowej stopnia 5\n",
    "- regrsji wielomianowej stopnia 25"
   ]
  },
  {
   "cell_type": "code",
   "execution_count": 9,
   "metadata": {},
   "outputs": [
    {
     "name": "stdout",
     "output_type": "stream",
     "text": [
      "i: 1\n",
      "Explained variance score: 0.45859627489430554\n",
      "Explained variance score: 0.45859627489430554\n",
      "Median absolute error: 3.548959482408311\n",
      "Mean squared error: 28.94344127060571\n",
      "Mean absolute errors: 4.18658463034275\n",
      "-----------\n",
      "i: 2\n",
      "Explained variance score: 0.7393298004425557\n",
      "Explained variance score: 0.7393298004425557\n",
      "Median absolute error: 3.332300044076589\n",
      "Mean squared error: 13.703753645161015\n",
      "Mean absolute errors: 3.268389858662174\n",
      "-----------\n",
      "i: 3\n",
      "Explained variance score: 0.9864288506934132\n",
      "Explained variance score: 0.9864288506934132\n",
      "Median absolute error: 0.5202138004551491\n",
      "Mean squared error: 0.7117533057126704\n",
      "Mean absolute errors: 0.6579481770240653\n",
      "-----------\n",
      "i: 4\n",
      "Explained variance score: 0.9982634485361909\n",
      "Explained variance score: 0.9982634485361909\n",
      "Median absolute error: 0.24453762232324383\n",
      "Mean squared error: 0.09130464005433898\n",
      "Mean absolute errors: 0.25240001746960583\n",
      "-----------\n",
      "i: 5\n",
      "Explained variance score: 0.9982554401187386\n",
      "Explained variance score: 0.9982554401187386\n",
      "Median absolute error: 0.24863934334230553\n",
      "Mean squared error: 0.09169354908643927\n",
      "Mean absolute errors: 0.25265670542131324\n",
      "-----------\n",
      "i: 25\n",
      "Explained variance score: 0.9936289300874146\n",
      "Explained variance score: 0.9936289300874146\n",
      "Median absolute error: 0.2651316985881955\n",
      "Mean squared error: 0.33974535492644753\n",
      "Mean absolute errors: 0.34661681646861003\n",
      "-----------\n"
     ]
    }
   ],
   "source": [
    "for i in {1,2,3,4,5,25}:\n",
    "    \n",
    "    model = make_pipeline(PolynomialFeatures(i), linear_model.LinearRegression())\n",
    "    model.fit(X_train, y_train)\n",
    "    print(\"i: \" + str(i))\n",
    "    print(\"Explained variance score: {}\".format( metrics.explained_variance_score(y_test, model.predict(X_test)) ))\n",
    "    print(\"Explained variance score: {}\".format( metrics.explained_variance_score(y_test, model.predict(X_test)) ))\n",
    "    print(\"Median absolute error: {}\".format( metrics.median_absolute_error(y_test, model.predict(X_test)) ))\n",
    "    print(\"Mean squared error: {}\".format( metrics.mean_squared_error(y_test, model.predict(X_test)) ))\n",
    "    print(\"Mean absolute errors: {}\".format(metrics.mean_absolute_error(y_test, model.predict(X_test)) ))\n",
    "    print(\"-----------\")\n"
   ]
  },
  {
   "cell_type": "code",
   "execution_count": null,
   "metadata": {},
   "outputs": [],
   "source": []
  }
 ],
 "metadata": {
  "kernelspec": {
   "display_name": "Python 3 (ipykernel)",
   "language": "python",
   "name": "python3"
  },
  "language_info": {
   "codemirror_mode": {
    "name": "ipython",
    "version": 3
   },
   "file_extension": ".py",
   "mimetype": "text/x-python",
   "name": "python",
   "nbconvert_exporter": "python",
   "pygments_lexer": "ipython3",
   "version": "3.9.7"
  }
 },
 "nbformat": 4,
 "nbformat_minor": 2
}
