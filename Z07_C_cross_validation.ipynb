{
 "cells": [
  {
   "cell_type": "markdown",
   "metadata": {
    "collapsed": true
   },
   "source": [
    "# Regresja"
   ]
  },
  {
   "cell_type": "code",
   "execution_count": 9,
   "metadata": {},
   "outputs": [],
   "source": [
    "import numpy as np\n",
    "import matplotlib.pyplot as plt\n",
    "from sklearn import datasets\n",
    "from sklearn.model_selection import cross_val_predict\n",
    "from sklearn import linear_model\n",
    "import matplotlib.pyplot as plt"
   ]
  },
  {
   "cell_type": "markdown",
   "metadata": {},
   "source": [
    "Rozważmy zbiór Boston"
   ]
  },
  {
   "cell_type": "code",
   "execution_count": 10,
   "metadata": {},
   "outputs": [],
   "source": [
    "boston = datasets.load_boston()\n",
    "# print description\n",
    "# print(boston.DESCR)"
   ]
  },
  {
   "cell_type": "code",
   "execution_count": 11,
   "metadata": {},
   "outputs": [],
   "source": [
    "# get the data\n",
    "boston_X = boston.data\n",
    "boston_Y = boston.target"
   ]
  },
  {
   "cell_type": "markdown",
   "metadata": {},
   "source": [
    "Podzielmy zbiór na część testową i treningową ."
   ]
  },
  {
   "cell_type": "code",
   "execution_count": 12,
   "metadata": {},
   "outputs": [],
   "source": [
    "# Split the data into training/testing sets\n",
    "boston_X_train = boston_X[:-50]\n",
    "boston_X_test = boston_X[-50:]\n",
    " \n",
    "# Split the targets into training/testing sets\n",
    "boston_y_train = boston_Y[:-50]\n",
    "boston_y_test = boston_Y[-50:]"
   ]
  },
  {
   "cell_type": "code",
   "execution_count": 13,
   "metadata": {},
   "outputs": [],
   "source": [
    "X=boston_X_train\n",
    "y=boston_y_train"
   ]
  },
  {
   "cell_type": "markdown",
   "metadata": {},
   "source": [
    "# Zadanie\n",
    "Znajdż najleprzy model dzieląc na zbiór testowy i terningowy.\n"
   ]
  },
  {
   "cell_type": "code",
   "execution_count": 15,
   "metadata": {},
   "outputs": [],
   "source": [
    "from sklearn.model_selection import GridSearchCV\n",
    "from sklearn import linear_model\n",
    "from sklearn.preprocessing import PolynomialFeatures\n",
    "from sklearn.linear_model import Ridge\n",
    "from sklearn.linear_model import Lasso\n",
    "from sklearn.linear_model import ElasticNet\n",
    "from sklearn.pipeline import make_pipeline\n",
    "from sklearn import model_selection\n",
    "\n",
    "seed=123\n",
    "kfold = model_selection.KFold(n_splits=5)\n"
   ]
  },
  {
   "cell_type": "code",
   "execution_count": 47,
   "metadata": {},
   "outputs": [
    {
     "name": "stderr",
     "output_type": "stream",
     "text": [
      "/Users/jakubstepien/opt/anaconda3/lib/python3.9/site-packages/sklearn/linear_model/_coordinate_descent.py:530: ConvergenceWarning: Objective did not converge. You might want to increase the number of iterations. Duality gap: 1421.0559179525972, tolerance: 3.8280406043956052\n",
      "  model = cd_fast.enet_coordinate_descent(\n",
      "/Users/jakubstepien/opt/anaconda3/lib/python3.9/site-packages/sklearn/linear_model/_coordinate_descent.py:530: ConvergenceWarning: Objective did not converge. You might want to increase the number of iterations. Duality gap: 1414.7044379109998, tolerance: 3.4063733315068494\n",
      "  model = cd_fast.enet_coordinate_descent(\n",
      "/Users/jakubstepien/opt/anaconda3/lib/python3.9/site-packages/sklearn/linear_model/_coordinate_descent.py:530: ConvergenceWarning: Objective did not converge. You might want to increase the number of iterations. Duality gap: 1379.905119549679, tolerance: 2.6657784493150682\n",
      "  model = cd_fast.enet_coordinate_descent(\n",
      "/Users/jakubstepien/opt/anaconda3/lib/python3.9/site-packages/sklearn/linear_model/_coordinate_descent.py:530: ConvergenceWarning: Objective did not converge. You might want to increase the number of iterations. Duality gap: 1315.647571951793, tolerance: 3.673183983561644\n",
      "  model = cd_fast.enet_coordinate_descent(\n",
      "/Users/jakubstepien/opt/anaconda3/lib/python3.9/site-packages/sklearn/linear_model/_coordinate_descent.py:530: ConvergenceWarning: Objective did not converge. You might want to increase the number of iterations. Duality gap: 702.6953575346743, tolerance: 2.538843304109589\n",
      "  model = cd_fast.enet_coordinate_descent(\n",
      "/Users/jakubstepien/opt/anaconda3/lib/python3.9/site-packages/sklearn/linear_model/_coordinate_descent.py:530: ConvergenceWarning: Objective did not converge. You might want to increase the number of iterations. Duality gap: 661.831165053496, tolerance: 3.8280406043956052\n",
      "  model = cd_fast.enet_coordinate_descent(\n",
      "/Users/jakubstepien/opt/anaconda3/lib/python3.9/site-packages/sklearn/linear_model/_coordinate_descent.py:530: ConvergenceWarning: Objective did not converge. You might want to increase the number of iterations. Duality gap: 631.688589726052, tolerance: 3.4063733315068494\n",
      "  model = cd_fast.enet_coordinate_descent(\n",
      "/Users/jakubstepien/opt/anaconda3/lib/python3.9/site-packages/sklearn/linear_model/_coordinate_descent.py:530: ConvergenceWarning: Objective did not converge. You might want to increase the number of iterations. Duality gap: 648.0855316047353, tolerance: 2.6657784493150682\n",
      "  model = cd_fast.enet_coordinate_descent(\n",
      "/Users/jakubstepien/opt/anaconda3/lib/python3.9/site-packages/sklearn/linear_model/_coordinate_descent.py:530: ConvergenceWarning: Objective did not converge. You might want to increase the number of iterations. Duality gap: 690.0790017640833, tolerance: 3.673183983561644\n",
      "  model = cd_fast.enet_coordinate_descent(\n",
      "/Users/jakubstepien/opt/anaconda3/lib/python3.9/site-packages/sklearn/linear_model/_coordinate_descent.py:530: ConvergenceWarning: Objective did not converge. You might want to increase the number of iterations. Duality gap: 381.7311055047984, tolerance: 2.538843304109589\n",
      "  model = cd_fast.enet_coordinate_descent(\n",
      "/Users/jakubstepien/opt/anaconda3/lib/python3.9/site-packages/sklearn/linear_model/_coordinate_descent.py:530: ConvergenceWarning: Objective did not converge. You might want to increase the number of iterations. Duality gap: 350.4092218094059, tolerance: 3.8280406043956052\n",
      "  model = cd_fast.enet_coordinate_descent(\n",
      "/Users/jakubstepien/opt/anaconda3/lib/python3.9/site-packages/sklearn/linear_model/_coordinate_descent.py:530: ConvergenceWarning: Objective did not converge. You might want to increase the number of iterations. Duality gap: 323.7556251369204, tolerance: 3.4063733315068494\n",
      "  model = cd_fast.enet_coordinate_descent(\n",
      "/Users/jakubstepien/opt/anaconda3/lib/python3.9/site-packages/sklearn/linear_model/_coordinate_descent.py:530: ConvergenceWarning: Objective did not converge. You might want to increase the number of iterations. Duality gap: 334.9304719537447, tolerance: 2.6657784493150682\n",
      "  model = cd_fast.enet_coordinate_descent(\n",
      "/Users/jakubstepien/opt/anaconda3/lib/python3.9/site-packages/sklearn/linear_model/_coordinate_descent.py:530: ConvergenceWarning: Objective did not converge. You might want to increase the number of iterations. Duality gap: 371.67389138433003, tolerance: 3.673183983561644\n",
      "  model = cd_fast.enet_coordinate_descent(\n",
      "/Users/jakubstepien/opt/anaconda3/lib/python3.9/site-packages/sklearn/linear_model/_coordinate_descent.py:530: ConvergenceWarning: Objective did not converge. You might want to increase the number of iterations. Duality gap: 208.20968462061862, tolerance: 2.538843304109589\n",
      "  model = cd_fast.enet_coordinate_descent(\n",
      "/Users/jakubstepien/opt/anaconda3/lib/python3.9/site-packages/sklearn/linear_model/_coordinate_descent.py:530: ConvergenceWarning: Objective did not converge. You might want to increase the number of iterations. Duality gap: 1680.2328316933822, tolerance: 3.8280406043956052\n",
      "  model = cd_fast.enet_coordinate_descent(\n",
      "/Users/jakubstepien/opt/anaconda3/lib/python3.9/site-packages/sklearn/linear_model/_coordinate_descent.py:530: ConvergenceWarning: Objective did not converge. You might want to increase the number of iterations. Duality gap: 1673.5812257883865, tolerance: 3.4063733315068494\n",
      "  model = cd_fast.enet_coordinate_descent(\n",
      "/Users/jakubstepien/opt/anaconda3/lib/python3.9/site-packages/sklearn/linear_model/_coordinate_descent.py:530: ConvergenceWarning: Objective did not converge. You might want to increase the number of iterations. Duality gap: 1602.6432582273537, tolerance: 2.6657784493150682\n",
      "  model = cd_fast.enet_coordinate_descent(\n",
      "/Users/jakubstepien/opt/anaconda3/lib/python3.9/site-packages/sklearn/linear_model/_coordinate_descent.py:530: ConvergenceWarning: Objective did not converge. You might want to increase the number of iterations. Duality gap: 1479.2106337428818, tolerance: 3.673183983561644\n",
      "  model = cd_fast.enet_coordinate_descent(\n",
      "/Users/jakubstepien/opt/anaconda3/lib/python3.9/site-packages/sklearn/linear_model/_coordinate_descent.py:530: ConvergenceWarning: Objective did not converge. You might want to increase the number of iterations. Duality gap: 816.0786476991345, tolerance: 2.538843304109589\n",
      "  model = cd_fast.enet_coordinate_descent(\n",
      "/Users/jakubstepien/opt/anaconda3/lib/python3.9/site-packages/sklearn/linear_model/_coordinate_descent.py:530: ConvergenceWarning: Objective did not converge. You might want to increase the number of iterations. Duality gap: 757.5332164132785, tolerance: 3.8280406043956052\n",
      "  model = cd_fast.enet_coordinate_descent(\n",
      "/Users/jakubstepien/opt/anaconda3/lib/python3.9/site-packages/sklearn/linear_model/_coordinate_descent.py:530: ConvergenceWarning: Objective did not converge. You might want to increase the number of iterations. Duality gap: 733.1600226793591, tolerance: 3.4063733315068494\n",
      "  model = cd_fast.enet_coordinate_descent(\n",
      "/Users/jakubstepien/opt/anaconda3/lib/python3.9/site-packages/sklearn/linear_model/_coordinate_descent.py:530: ConvergenceWarning: Objective did not converge. You might want to increase the number of iterations. Duality gap: 740.75398106608, tolerance: 2.6657784493150682\n",
      "  model = cd_fast.enet_coordinate_descent(\n",
      "/Users/jakubstepien/opt/anaconda3/lib/python3.9/site-packages/sklearn/linear_model/_coordinate_descent.py:530: ConvergenceWarning: Objective did not converge. You might want to increase the number of iterations. Duality gap: 742.8828007791864, tolerance: 3.673183983561644\n",
      "  model = cd_fast.enet_coordinate_descent(\n",
      "/Users/jakubstepien/opt/anaconda3/lib/python3.9/site-packages/sklearn/linear_model/_coordinate_descent.py:530: ConvergenceWarning: Objective did not converge. You might want to increase the number of iterations. Duality gap: 435.1058614821755, tolerance: 2.538843304109589\n",
      "  model = cd_fast.enet_coordinate_descent(\n",
      "/Users/jakubstepien/opt/anaconda3/lib/python3.9/site-packages/sklearn/linear_model/_coordinate_descent.py:530: ConvergenceWarning: Objective did not converge. You might want to increase the number of iterations. Duality gap: 402.2844692502816, tolerance: 3.8280406043956052\n",
      "  model = cd_fast.enet_coordinate_descent(\n"
     ]
    },
    {
     "name": "stderr",
     "output_type": "stream",
     "text": [
      "/Users/jakubstepien/opt/anaconda3/lib/python3.9/site-packages/sklearn/linear_model/_coordinate_descent.py:530: ConvergenceWarning: Objective did not converge. You might want to increase the number of iterations. Duality gap: 367.0980944330114, tolerance: 3.4063733315068494\n",
      "  model = cd_fast.enet_coordinate_descent(\n",
      "/Users/jakubstepien/opt/anaconda3/lib/python3.9/site-packages/sklearn/linear_model/_coordinate_descent.py:530: ConvergenceWarning: Objective did not converge. You might want to increase the number of iterations. Duality gap: 375.2776538320563, tolerance: 2.6657784493150682\n",
      "  model = cd_fast.enet_coordinate_descent(\n",
      "/Users/jakubstepien/opt/anaconda3/lib/python3.9/site-packages/sklearn/linear_model/_coordinate_descent.py:530: ConvergenceWarning: Objective did not converge. You might want to increase the number of iterations. Duality gap: 419.8101736430408, tolerance: 3.673183983561644\n",
      "  model = cd_fast.enet_coordinate_descent(\n",
      "/Users/jakubstepien/opt/anaconda3/lib/python3.9/site-packages/sklearn/linear_model/_coordinate_descent.py:530: ConvergenceWarning: Objective did not converge. You might want to increase the number of iterations. Duality gap: 233.34859393522888, tolerance: 2.538843304109589\n",
      "  model = cd_fast.enet_coordinate_descent(\n",
      "/Users/jakubstepien/opt/anaconda3/lib/python3.9/site-packages/sklearn/linear_model/_coordinate_descent.py:530: ConvergenceWarning: Objective did not converge. You might want to increase the number of iterations. Duality gap: 1722.8448230579797, tolerance: 3.8280406043956052\n",
      "  model = cd_fast.enet_coordinate_descent(\n",
      "/Users/jakubstepien/opt/anaconda3/lib/python3.9/site-packages/sklearn/linear_model/_coordinate_descent.py:530: ConvergenceWarning: Objective did not converge. You might want to increase the number of iterations. Duality gap: 1723.5626769333194, tolerance: 3.4063733315068494\n",
      "  model = cd_fast.enet_coordinate_descent(\n",
      "/Users/jakubstepien/opt/anaconda3/lib/python3.9/site-packages/sklearn/linear_model/_coordinate_descent.py:530: ConvergenceWarning: Objective did not converge. You might want to increase the number of iterations. Duality gap: 1649.367249528153, tolerance: 2.6657784493150682\n",
      "  model = cd_fast.enet_coordinate_descent(\n",
      "/Users/jakubstepien/opt/anaconda3/lib/python3.9/site-packages/sklearn/linear_model/_coordinate_descent.py:530: ConvergenceWarning: Objective did not converge. You might want to increase the number of iterations. Duality gap: 1520.5776183035637, tolerance: 3.673183983561644\n",
      "  model = cd_fast.enet_coordinate_descent(\n",
      "/Users/jakubstepien/opt/anaconda3/lib/python3.9/site-packages/sklearn/linear_model/_coordinate_descent.py:530: ConvergenceWarning: Objective did not converge. You might want to increase the number of iterations. Duality gap: 851.7225063588521, tolerance: 2.538843304109589\n",
      "  model = cd_fast.enet_coordinate_descent(\n",
      "/Users/jakubstepien/opt/anaconda3/lib/python3.9/site-packages/sklearn/linear_model/_coordinate_descent.py:530: ConvergenceWarning: Objective did not converge. You might want to increase the number of iterations. Duality gap: 783.4955546692614, tolerance: 3.8280406043956052\n",
      "  model = cd_fast.enet_coordinate_descent(\n",
      "/Users/jakubstepien/opt/anaconda3/lib/python3.9/site-packages/sklearn/linear_model/_coordinate_descent.py:530: ConvergenceWarning: Objective did not converge. You might want to increase the number of iterations. Duality gap: 751.6104657469258, tolerance: 3.4063733315068494\n",
      "  model = cd_fast.enet_coordinate_descent(\n",
      "/Users/jakubstepien/opt/anaconda3/lib/python3.9/site-packages/sklearn/linear_model/_coordinate_descent.py:530: ConvergenceWarning: Objective did not converge. You might want to increase the number of iterations. Duality gap: 763.9888796620211, tolerance: 2.6657784493150682\n",
      "  model = cd_fast.enet_coordinate_descent(\n",
      "/Users/jakubstepien/opt/anaconda3/lib/python3.9/site-packages/sklearn/linear_model/_coordinate_descent.py:530: ConvergenceWarning: Objective did not converge. You might want to increase the number of iterations. Duality gap: 758.9523587200247, tolerance: 3.673183983561644\n",
      "  model = cd_fast.enet_coordinate_descent(\n",
      "/Users/jakubstepien/opt/anaconda3/lib/python3.9/site-packages/sklearn/linear_model/_coordinate_descent.py:530: ConvergenceWarning: Objective did not converge. You might want to increase the number of iterations. Duality gap: 445.106837312372, tolerance: 2.538843304109589\n",
      "  model = cd_fast.enet_coordinate_descent(\n",
      "/Users/jakubstepien/opt/anaconda3/lib/python3.9/site-packages/sklearn/linear_model/_coordinate_descent.py:530: ConvergenceWarning: Objective did not converge. You might want to increase the number of iterations. Duality gap: 412.3538815085928, tolerance: 3.8280406043956052\n",
      "  model = cd_fast.enet_coordinate_descent(\n",
      "/Users/jakubstepien/opt/anaconda3/lib/python3.9/site-packages/sklearn/linear_model/_coordinate_descent.py:530: ConvergenceWarning: Objective did not converge. You might want to increase the number of iterations. Duality gap: 374.6470127455449, tolerance: 3.4063733315068494\n",
      "  model = cd_fast.enet_coordinate_descent(\n",
      "/Users/jakubstepien/opt/anaconda3/lib/python3.9/site-packages/sklearn/linear_model/_coordinate_descent.py:530: ConvergenceWarning: Objective did not converge. You might want to increase the number of iterations. Duality gap: 381.29772065732993, tolerance: 2.6657784493150682\n",
      "  model = cd_fast.enet_coordinate_descent(\n",
      "/Users/jakubstepien/opt/anaconda3/lib/python3.9/site-packages/sklearn/linear_model/_coordinate_descent.py:530: ConvergenceWarning: Objective did not converge. You might want to increase the number of iterations. Duality gap: 428.89788208762775, tolerance: 3.673183983561644\n",
      "  model = cd_fast.enet_coordinate_descent(\n",
      "/Users/jakubstepien/opt/anaconda3/lib/python3.9/site-packages/sklearn/linear_model/_coordinate_descent.py:530: ConvergenceWarning: Objective did not converge. You might want to increase the number of iterations. Duality gap: 236.20523193094306, tolerance: 2.538843304109589\n",
      "  model = cd_fast.enet_coordinate_descent(\n",
      "/Users/jakubstepien/opt/anaconda3/lib/python3.9/site-packages/sklearn/linear_model/_coordinate_descent.py:530: ConvergenceWarning: Objective did not converge. You might want to increase the number of iterations. Duality gap: 1752.24611148082, tolerance: 3.8280406043956052\n",
      "  model = cd_fast.enet_coordinate_descent(\n",
      "/Users/jakubstepien/opt/anaconda3/lib/python3.9/site-packages/sklearn/linear_model/_coordinate_descent.py:530: ConvergenceWarning: Objective did not converge. You might want to increase the number of iterations. Duality gap: 1757.779878474992, tolerance: 3.4063733315068494\n",
      "  model = cd_fast.enet_coordinate_descent(\n",
      "/Users/jakubstepien/opt/anaconda3/lib/python3.9/site-packages/sklearn/linear_model/_coordinate_descent.py:530: ConvergenceWarning: Objective did not converge. You might want to increase the number of iterations. Duality gap: 1680.7563606542462, tolerance: 2.6657784493150682\n",
      "  model = cd_fast.enet_coordinate_descent(\n",
      "/Users/jakubstepien/opt/anaconda3/lib/python3.9/site-packages/sklearn/linear_model/_coordinate_descent.py:530: ConvergenceWarning: Objective did not converge. You might want to increase the number of iterations. Duality gap: 1563.0429641527112, tolerance: 3.673183983561644\n",
      "  model = cd_fast.enet_coordinate_descent(\n",
      "/Users/jakubstepien/opt/anaconda3/lib/python3.9/site-packages/sklearn/linear_model/_coordinate_descent.py:530: ConvergenceWarning: Objective did not converge. You might want to increase the number of iterations. Duality gap: 881.2170755384259, tolerance: 2.538843304109589\n",
      "  model = cd_fast.enet_coordinate_descent(\n",
      "/Users/jakubstepien/opt/anaconda3/lib/python3.9/site-packages/sklearn/linear_model/_coordinate_descent.py:530: ConvergenceWarning: Objective did not converge. You might want to increase the number of iterations. Duality gap: 803.1581647848949, tolerance: 3.8280406043956052\n",
      "  model = cd_fast.enet_coordinate_descent(\n",
      "/Users/jakubstepien/opt/anaconda3/lib/python3.9/site-packages/sklearn/linear_model/_coordinate_descent.py:530: ConvergenceWarning: Objective did not converge. You might want to increase the number of iterations. Duality gap: 761.3368948278638, tolerance: 3.4063733315068494\n",
      "  model = cd_fast.enet_coordinate_descent(\n"
     ]
    },
    {
     "name": "stderr",
     "output_type": "stream",
     "text": [
      "/Users/jakubstepien/opt/anaconda3/lib/python3.9/site-packages/sklearn/linear_model/_coordinate_descent.py:530: ConvergenceWarning: Objective did not converge. You might want to increase the number of iterations. Duality gap: 778.6730465937329, tolerance: 2.6657784493150682\n",
      "  model = cd_fast.enet_coordinate_descent(\n",
      "/Users/jakubstepien/opt/anaconda3/lib/python3.9/site-packages/sklearn/linear_model/_coordinate_descent.py:530: ConvergenceWarning: Objective did not converge. You might want to increase the number of iterations. Duality gap: 768.8754557745074, tolerance: 3.673183983561644\n",
      "  model = cd_fast.enet_coordinate_descent(\n",
      "/Users/jakubstepien/opt/anaconda3/lib/python3.9/site-packages/sklearn/linear_model/_coordinate_descent.py:530: ConvergenceWarning: Objective did not converge. You might want to increase the number of iterations. Duality gap: 452.00027115092195, tolerance: 2.538843304109589\n",
      "  model = cd_fast.enet_coordinate_descent(\n",
      "/Users/jakubstepien/opt/anaconda3/lib/python3.9/site-packages/sklearn/linear_model/_coordinate_descent.py:530: ConvergenceWarning: Objective did not converge. You might want to increase the number of iterations. Duality gap: 415.20624700797686, tolerance: 3.8280406043956052\n",
      "  model = cd_fast.enet_coordinate_descent(\n",
      "/Users/jakubstepien/opt/anaconda3/lib/python3.9/site-packages/sklearn/linear_model/_coordinate_descent.py:530: ConvergenceWarning: Objective did not converge. You might want to increase the number of iterations. Duality gap: 377.58925513558, tolerance: 3.4063733315068494\n",
      "  model = cd_fast.enet_coordinate_descent(\n",
      "/Users/jakubstepien/opt/anaconda3/lib/python3.9/site-packages/sklearn/linear_model/_coordinate_descent.py:530: ConvergenceWarning: Objective did not converge. You might want to increase the number of iterations. Duality gap: 385.25491250711184, tolerance: 2.6657784493150682\n",
      "  model = cd_fast.enet_coordinate_descent(\n",
      "/Users/jakubstepien/opt/anaconda3/lib/python3.9/site-packages/sklearn/linear_model/_coordinate_descent.py:530: ConvergenceWarning: Objective did not converge. You might want to increase the number of iterations. Duality gap: 432.3116023489022, tolerance: 3.673183983561644\n",
      "  model = cd_fast.enet_coordinate_descent(\n",
      "/Users/jakubstepien/opt/anaconda3/lib/python3.9/site-packages/sklearn/linear_model/_coordinate_descent.py:530: ConvergenceWarning: Objective did not converge. You might want to increase the number of iterations. Duality gap: 239.10144751812766, tolerance: 2.538843304109589\n",
      "  model = cd_fast.enet_coordinate_descent(\n",
      "/Users/jakubstepien/opt/anaconda3/lib/python3.9/site-packages/sklearn/linear_model/_coordinate_descent.py:530: ConvergenceWarning: Objective did not converge. You might want to increase the number of iterations. Duality gap: 1806.9069791063034, tolerance: 3.8280406043956052\n",
      "  model = cd_fast.enet_coordinate_descent(\n",
      "/Users/jakubstepien/opt/anaconda3/lib/python3.9/site-packages/sklearn/linear_model/_coordinate_descent.py:530: ConvergenceWarning: Objective did not converge. You might want to increase the number of iterations. Duality gap: 1817.9778837874574, tolerance: 3.4063733315068494\n",
      "  model = cd_fast.enet_coordinate_descent(\n",
      "/Users/jakubstepien/opt/anaconda3/lib/python3.9/site-packages/sklearn/linear_model/_coordinate_descent.py:530: ConvergenceWarning: Objective did not converge. You might want to increase the number of iterations. Duality gap: 1727.3215933696597, tolerance: 2.6657784493150682\n",
      "  model = cd_fast.enet_coordinate_descent(\n",
      "/Users/jakubstepien/opt/anaconda3/lib/python3.9/site-packages/sklearn/linear_model/_coordinate_descent.py:530: ConvergenceWarning: Objective did not converge. You might want to increase the number of iterations. Duality gap: 1632.285081707277, tolerance: 3.673183983561644\n",
      "  model = cd_fast.enet_coordinate_descent(\n",
      "/Users/jakubstepien/opt/anaconda3/lib/python3.9/site-packages/sklearn/linear_model/_coordinate_descent.py:530: ConvergenceWarning: Objective did not converge. You might want to increase the number of iterations. Duality gap: 926.0223912814491, tolerance: 2.538843304109589\n",
      "  model = cd_fast.enet_coordinate_descent(\n",
      "/Users/jakubstepien/opt/anaconda3/lib/python3.9/site-packages/sklearn/linear_model/_coordinate_descent.py:530: ConvergenceWarning: Objective did not converge. You might want to increase the number of iterations. Duality gap: 824.1777879323607, tolerance: 3.8280406043956052\n",
      "  model = cd_fast.enet_coordinate_descent(\n",
      "/Users/jakubstepien/opt/anaconda3/lib/python3.9/site-packages/sklearn/linear_model/_coordinate_descent.py:530: ConvergenceWarning: Objective did not converge. You might want to increase the number of iterations. Duality gap: 770.7575314314327, tolerance: 3.4063733315068494\n",
      "  model = cd_fast.enet_coordinate_descent(\n",
      "/Users/jakubstepien/opt/anaconda3/lib/python3.9/site-packages/sklearn/linear_model/_coordinate_descent.py:530: ConvergenceWarning: Objective did not converge. You might want to increase the number of iterations. Duality gap: 803.0790704442614, tolerance: 2.6657784493150682\n",
      "  model = cd_fast.enet_coordinate_descent(\n",
      "/Users/jakubstepien/opt/anaconda3/lib/python3.9/site-packages/sklearn/linear_model/_coordinate_descent.py:530: ConvergenceWarning: Objective did not converge. You might want to increase the number of iterations. Duality gap: 781.1013858011155, tolerance: 3.673183983561644\n",
      "  model = cd_fast.enet_coordinate_descent(\n",
      "/Users/jakubstepien/opt/anaconda3/lib/python3.9/site-packages/sklearn/linear_model/_coordinate_descent.py:530: ConvergenceWarning: Objective did not converge. You might want to increase the number of iterations. Duality gap: 462.6637974917455, tolerance: 2.538843304109589\n",
      "  model = cd_fast.enet_coordinate_descent(\n",
      "/Users/jakubstepien/opt/anaconda3/lib/python3.9/site-packages/sklearn/linear_model/_coordinate_descent.py:530: ConvergenceWarning: Objective did not converge. You might want to increase the number of iterations. Duality gap: 417.904115733285, tolerance: 3.8280406043956052\n",
      "  model = cd_fast.enet_coordinate_descent(\n",
      "/Users/jakubstepien/opt/anaconda3/lib/python3.9/site-packages/sklearn/linear_model/_coordinate_descent.py:530: ConvergenceWarning: Objective did not converge. You might want to increase the number of iterations. Duality gap: 387.0296806099359, tolerance: 3.4063733315068494\n",
      "  model = cd_fast.enet_coordinate_descent(\n",
      "/Users/jakubstepien/opt/anaconda3/lib/python3.9/site-packages/sklearn/linear_model/_coordinate_descent.py:530: ConvergenceWarning: Objective did not converge. You might want to increase the number of iterations. Duality gap: 394.3182616810075, tolerance: 2.6657784493150682\n",
      "  model = cd_fast.enet_coordinate_descent(\n",
      "/Users/jakubstepien/opt/anaconda3/lib/python3.9/site-packages/sklearn/linear_model/_coordinate_descent.py:530: ConvergenceWarning: Objective did not converge. You might want to increase the number of iterations. Duality gap: 438.0427506614379, tolerance: 3.673183983561644\n",
      "  model = cd_fast.enet_coordinate_descent(\n",
      "/Users/jakubstepien/opt/anaconda3/lib/python3.9/site-packages/sklearn/linear_model/_coordinate_descent.py:530: ConvergenceWarning: Objective did not converge. You might want to increase the number of iterations. Duality gap: 245.8865562199519, tolerance: 2.538843304109589\n",
      "  model = cd_fast.enet_coordinate_descent(\n",
      "/Users/jakubstepien/opt/anaconda3/lib/python3.9/site-packages/sklearn/linear_model/_coordinate_descent.py:530: ConvergenceWarning: Objective did not converge. You might want to increase the number of iterations. Duality gap: 1831.449229416433, tolerance: 3.8280406043956052\n",
      "  model = cd_fast.enet_coordinate_descent(\n",
      "/Users/jakubstepien/opt/anaconda3/lib/python3.9/site-packages/sklearn/linear_model/_coordinate_descent.py:530: ConvergenceWarning: Objective did not converge. You might want to increase the number of iterations. Duality gap: 1843.984500331802, tolerance: 3.4063733315068494\n",
      "  model = cd_fast.enet_coordinate_descent(\n",
      "/Users/jakubstepien/opt/anaconda3/lib/python3.9/site-packages/sklearn/linear_model/_coordinate_descent.py:530: ConvergenceWarning: Objective did not converge. You might want to increase the number of iterations. Duality gap: 1744.8630418103292, tolerance: 2.6657784493150682\n",
      "  model = cd_fast.enet_coordinate_descent(\n",
      "/Users/jakubstepien/opt/anaconda3/lib/python3.9/site-packages/sklearn/linear_model/_coordinate_descent.py:530: ConvergenceWarning: Objective did not converge. You might want to increase the number of iterations. Duality gap: 1659.7718367276343, tolerance: 3.673183983561644\n",
      "  model = cd_fast.enet_coordinate_descent(\n",
      "/Users/jakubstepien/opt/anaconda3/lib/python3.9/site-packages/sklearn/linear_model/_coordinate_descent.py:530: ConvergenceWarning: Objective did not converge. You might want to increase the number of iterations. Duality gap: 945.181211836055, tolerance: 2.538843304109589\n",
      "  model = cd_fast.enet_coordinate_descent(\n"
     ]
    },
    {
     "name": "stderr",
     "output_type": "stream",
     "text": [
      "/Users/jakubstepien/opt/anaconda3/lib/python3.9/site-packages/sklearn/linear_model/_coordinate_descent.py:530: ConvergenceWarning: Objective did not converge. You might want to increase the number of iterations. Duality gap: 833.1249358770256, tolerance: 3.8280406043956052\n",
      "  model = cd_fast.enet_coordinate_descent(\n",
      "/Users/jakubstepien/opt/anaconda3/lib/python3.9/site-packages/sklearn/linear_model/_coordinate_descent.py:530: ConvergenceWarning: Objective did not converge. You might want to increase the number of iterations. Duality gap: 780.1902780166306, tolerance: 3.4063733315068494\n",
      "  model = cd_fast.enet_coordinate_descent(\n",
      "/Users/jakubstepien/opt/anaconda3/lib/python3.9/site-packages/sklearn/linear_model/_coordinate_descent.py:530: ConvergenceWarning: Objective did not converge. You might want to increase the number of iterations. Duality gap: 810.9835624005535, tolerance: 2.6657784493150682\n",
      "  model = cd_fast.enet_coordinate_descent(\n",
      "/Users/jakubstepien/opt/anaconda3/lib/python3.9/site-packages/sklearn/linear_model/_coordinate_descent.py:530: ConvergenceWarning: Objective did not converge. You might want to increase the number of iterations. Duality gap: 787.9076832677392, tolerance: 3.673183983561644\n",
      "  model = cd_fast.enet_coordinate_descent(\n",
      "/Users/jakubstepien/opt/anaconda3/lib/python3.9/site-packages/sklearn/linear_model/_coordinate_descent.py:530: ConvergenceWarning: Objective did not converge. You might want to increase the number of iterations. Duality gap: 467.58316117016716, tolerance: 2.538843304109589\n",
      "  model = cd_fast.enet_coordinate_descent(\n",
      "/Users/jakubstepien/opt/anaconda3/lib/python3.9/site-packages/sklearn/linear_model/_coordinate_descent.py:530: ConvergenceWarning: Objective did not converge. You might want to increase the number of iterations. Duality gap: 422.5298519524564, tolerance: 3.8280406043956052\n",
      "  model = cd_fast.enet_coordinate_descent(\n",
      "/Users/jakubstepien/opt/anaconda3/lib/python3.9/site-packages/sklearn/linear_model/_coordinate_descent.py:530: ConvergenceWarning: Objective did not converge. You might want to increase the number of iterations. Duality gap: 391.17361287363013, tolerance: 3.4063733315068494\n",
      "  model = cd_fast.enet_coordinate_descent(\n",
      "/Users/jakubstepien/opt/anaconda3/lib/python3.9/site-packages/sklearn/linear_model/_coordinate_descent.py:530: ConvergenceWarning: Objective did not converge. You might want to increase the number of iterations. Duality gap: 398.7631389201483, tolerance: 2.6657784493150682\n",
      "  model = cd_fast.enet_coordinate_descent(\n",
      "/Users/jakubstepien/opt/anaconda3/lib/python3.9/site-packages/sklearn/linear_model/_coordinate_descent.py:530: ConvergenceWarning: Objective did not converge. You might want to increase the number of iterations. Duality gap: 443.2446897914248, tolerance: 3.673183983561644\n",
      "  model = cd_fast.enet_coordinate_descent(\n",
      "/Users/jakubstepien/opt/anaconda3/lib/python3.9/site-packages/sklearn/linear_model/_coordinate_descent.py:530: ConvergenceWarning: Objective did not converge. You might want to increase the number of iterations. Duality gap: 248.83828835556486, tolerance: 2.538843304109589\n",
      "  model = cd_fast.enet_coordinate_descent(\n",
      "/Users/jakubstepien/opt/anaconda3/lib/python3.9/site-packages/sklearn/linear_model/_coordinate_descent.py:530: ConvergenceWarning: Objective did not converge. You might want to increase the number of iterations. Duality gap: 1853.057553868976, tolerance: 3.8280406043956052\n",
      "  model = cd_fast.enet_coordinate_descent(\n",
      "/Users/jakubstepien/opt/anaconda3/lib/python3.9/site-packages/sklearn/linear_model/_coordinate_descent.py:530: ConvergenceWarning: Objective did not converge. You might want to increase the number of iterations. Duality gap: 1867.0369676459754, tolerance: 3.4063733315068494\n",
      "  model = cd_fast.enet_coordinate_descent(\n",
      "/Users/jakubstepien/opt/anaconda3/lib/python3.9/site-packages/sklearn/linear_model/_coordinate_descent.py:530: ConvergenceWarning: Objective did not converge. You might want to increase the number of iterations. Duality gap: 1759.4982329873524, tolerance: 2.6657784493150682\n",
      "  model = cd_fast.enet_coordinate_descent(\n",
      "/Users/jakubstepien/opt/anaconda3/lib/python3.9/site-packages/sklearn/linear_model/_coordinate_descent.py:530: ConvergenceWarning: Objective did not converge. You might want to increase the number of iterations. Duality gap: 1683.567858405019, tolerance: 3.673183983561644\n",
      "  model = cd_fast.enet_coordinate_descent(\n",
      "/Users/jakubstepien/opt/anaconda3/lib/python3.9/site-packages/sklearn/linear_model/_coordinate_descent.py:530: ConvergenceWarning: Objective did not converge. You might want to increase the number of iterations. Duality gap: 962.5187147345673, tolerance: 2.538843304109589\n",
      "  model = cd_fast.enet_coordinate_descent(\n",
      "/Users/jakubstepien/opt/anaconda3/lib/python3.9/site-packages/sklearn/linear_model/_coordinate_descent.py:530: ConvergenceWarning: Objective did not converge. You might want to increase the number of iterations. Duality gap: 840.4128467382619, tolerance: 3.8280406043956052\n",
      "  model = cd_fast.enet_coordinate_descent(\n",
      "/Users/jakubstepien/opt/anaconda3/lib/python3.9/site-packages/sklearn/linear_model/_coordinate_descent.py:530: ConvergenceWarning: Objective did not converge. You might want to increase the number of iterations. Duality gap: 789.4902465243633, tolerance: 3.4063733315068494\n",
      "  model = cd_fast.enet_coordinate_descent(\n",
      "/Users/jakubstepien/opt/anaconda3/lib/python3.9/site-packages/sklearn/linear_model/_coordinate_descent.py:530: ConvergenceWarning: Objective did not converge. You might want to increase the number of iterations. Duality gap: 816.619283561205, tolerance: 2.6657784493150682\n",
      "  model = cd_fast.enet_coordinate_descent(\n",
      "/Users/jakubstepien/opt/anaconda3/lib/python3.9/site-packages/sklearn/linear_model/_coordinate_descent.py:530: ConvergenceWarning: Objective did not converge. You might want to increase the number of iterations. Duality gap: 794.5518411428885, tolerance: 3.673183983561644\n",
      "  model = cd_fast.enet_coordinate_descent(\n",
      "/Users/jakubstepien/opt/anaconda3/lib/python3.9/site-packages/sklearn/linear_model/_coordinate_descent.py:530: ConvergenceWarning: Objective did not converge. You might want to increase the number of iterations. Duality gap: 471.54184150228434, tolerance: 2.538843304109589\n",
      "  model = cd_fast.enet_coordinate_descent(\n",
      "/Users/jakubstepien/opt/anaconda3/lib/python3.9/site-packages/sklearn/linear_model/_coordinate_descent.py:530: ConvergenceWarning: Objective did not converge. You might want to increase the number of iterations. Duality gap: 427.04207841380355, tolerance: 3.8280406043956052\n",
      "  model = cd_fast.enet_coordinate_descent(\n",
      "/Users/jakubstepien/opt/anaconda3/lib/python3.9/site-packages/sklearn/linear_model/_coordinate_descent.py:530: ConvergenceWarning: Objective did not converge. You might want to increase the number of iterations. Duality gap: 394.6128052103476, tolerance: 3.4063733315068494\n",
      "  model = cd_fast.enet_coordinate_descent(\n",
      "/Users/jakubstepien/opt/anaconda3/lib/python3.9/site-packages/sklearn/linear_model/_coordinate_descent.py:530: ConvergenceWarning: Objective did not converge. You might want to increase the number of iterations. Duality gap: 402.5938541835701, tolerance: 2.6657784493150682\n",
      "  model = cd_fast.enet_coordinate_descent(\n",
      "/Users/jakubstepien/opt/anaconda3/lib/python3.9/site-packages/sklearn/linear_model/_coordinate_descent.py:530: ConvergenceWarning: Objective did not converge. You might want to increase the number of iterations. Duality gap: 448.65874957486426, tolerance: 3.673183983561644\n",
      "  model = cd_fast.enet_coordinate_descent(\n"
     ]
    },
    {
     "name": "stdout",
     "output_type": "stream",
     "text": [
      "{'elasticnet__alpha': 0.3, 'polynomialfeatures__degree': 1}\n",
      "R^2: 0.27141189699941837\n"
     ]
    },
    {
     "name": "stderr",
     "output_type": "stream",
     "text": [
      "/Users/jakubstepien/opt/anaconda3/lib/python3.9/site-packages/sklearn/linear_model/_coordinate_descent.py:530: ConvergenceWarning: Objective did not converge. You might want to increase the number of iterations. Duality gap: 251.45856159996737, tolerance: 2.538843304109589\n",
      "  model = cd_fast.enet_coordinate_descent(\n"
     ]
    }
   ],
   "source": [
    "X_test=boston_X_test\n",
    "y_test=boston_y_test\n",
    "\n",
    "grid_1 = GridSearchCV(make_pipeline(PolynomialFeatures(degree=2), ElasticNet(alpha=1, random_state=seed)),\n",
    "                    param_grid={'polynomialfeatures__degree': [1, 2, 3, 4],\n",
    "                    'elasticnet__alpha': [0.01, 0.1,0.15,0.2,0.3,0.35,0.4,]},\n",
    "                    cv=kfold,\n",
    "                    refit=True)\n",
    "grid_1.fit(X, y)\n",
    "print(grid_1.best_params_)\n",
    "print(\"R^2: {}\".format(metrics.r2_score(y_test, grid_1.predict(X_test)) ))"
   ]
  },
  {
   "cell_type": "code",
   "execution_count": 17,
   "metadata": {},
   "outputs": [
    {
     "data": {
      "text/plain": [
       "array([[ 1.56359058e-01, -1.81971026e+02, -1.25827594e+03,\n",
       "        -2.94601984e+04],\n",
       "       [ 4.14883696e-01, -9.67566969e-01, -5.57237890e+02,\n",
       "        -3.23763009e+05],\n",
       "       [ 4.70838951e-01,  1.12055989e-01, -8.87555304e+01,\n",
       "        -8.78702543e+03],\n",
       "       [ 2.14677917e-01,  1.92715153e-01, -9.81211483e-01,\n",
       "        -1.08972348e+03]])"
      ]
     },
     "execution_count": 17,
     "metadata": {},
     "output_type": "execute_result"
    }
   ],
   "source": [
    "grid_1.cv_results_['mean_test_score'].reshape(4, -1)"
   ]
  },
  {
   "cell_type": "code",
   "execution_count": 18,
   "metadata": {},
   "outputs": [
    {
     "data": {
      "image/png": "[encoded data removed]",
      "text/plain": [
       "<Figure size 288x288 with 1 Axes>"
      ]
     },
     "metadata": {
      "needs_background": "light"
     },
     "output_type": "display_data"
    }
   ],
   "source": [
    "plt.matshow(grid_1.cv_results_['mean_test_score'].reshape(4, -1),\n",
    "vmin=0, cmap=\"viridis\")\n",
    "plt.xlabel(\"elasticnet__alpha\")\n",
    "plt.ylabel(\"polynomialfeatures__degree\")\n",
    "plt.show()"
   ]
  },
  {
   "cell_type": "code",
   "execution_count": 51,
   "metadata": {},
   "outputs": [
    {
     "name": "stderr",
     "output_type": "stream",
     "text": [
      "/Users/jakubstepien/opt/anaconda3/lib/python3.9/site-packages/sklearn/linear_model/_ridge.py:190: UserWarning: Singular matrix in solving dual problem. Using least-squares solution instead.\n",
      "  warnings.warn(\"Singular matrix in solving dual problem. Using \"\n",
      "/Users/jakubstepien/opt/anaconda3/lib/python3.9/site-packages/sklearn/linear_model/_ridge.py:190: UserWarning: Singular matrix in solving dual problem. Using least-squares solution instead.\n",
      "  warnings.warn(\"Singular matrix in solving dual problem. Using \"\n",
      "/Users/jakubstepien/opt/anaconda3/lib/python3.9/site-packages/sklearn/linear_model/_ridge.py:190: UserWarning: Singular matrix in solving dual problem. Using least-squares solution instead.\n",
      "  warnings.warn(\"Singular matrix in solving dual problem. Using \"\n",
      "/Users/jakubstepien/opt/anaconda3/lib/python3.9/site-packages/sklearn/linear_model/_ridge.py:190: UserWarning: Singular matrix in solving dual problem. Using least-squares solution instead.\n",
      "  warnings.warn(\"Singular matrix in solving dual problem. Using \"\n",
      "/Users/jakubstepien/opt/anaconda3/lib/python3.9/site-packages/sklearn/linear_model/_ridge.py:187: LinAlgWarning: Ill-conditioned matrix (rcond=7.06751e-18): result may not be accurate.\n",
      "  dual_coef = linalg.solve(K, y, sym_pos=True,\n",
      "/Users/jakubstepien/opt/anaconda3/lib/python3.9/site-packages/sklearn/linear_model/_ridge.py:187: LinAlgWarning: Ill-conditioned matrix (rcond=3.89147e-19): result may not be accurate.\n",
      "  dual_coef = linalg.solve(K, y, sym_pos=True,\n",
      "/Users/jakubstepien/opt/anaconda3/lib/python3.9/site-packages/sklearn/linear_model/_ridge.py:190: UserWarning: Singular matrix in solving dual problem. Using least-squares solution instead.\n",
      "  warnings.warn(\"Singular matrix in solving dual problem. Using \"\n",
      "/Users/jakubstepien/opt/anaconda3/lib/python3.9/site-packages/sklearn/linear_model/_ridge.py:187: LinAlgWarning: Ill-conditioned matrix (rcond=3.48174e-19): result may not be accurate.\n",
      "  dual_coef = linalg.solve(K, y, sym_pos=True,\n",
      "/Users/jakubstepien/opt/anaconda3/lib/python3.9/site-packages/sklearn/linear_model/_ridge.py:187: LinAlgWarning: Ill-conditioned matrix (rcond=4.31012e-19): result may not be accurate.\n",
      "  dual_coef = linalg.solve(K, y, sym_pos=True,\n",
      "/Users/jakubstepien/opt/anaconda3/lib/python3.9/site-packages/sklearn/linear_model/_ridge.py:187: LinAlgWarning: Ill-conditioned matrix (rcond=7.46319e-18): result may not be accurate.\n",
      "  dual_coef = linalg.solve(K, y, sym_pos=True,\n",
      "/Users/jakubstepien/opt/anaconda3/lib/python3.9/site-packages/sklearn/linear_model/_ridge.py:187: LinAlgWarning: Ill-conditioned matrix (rcond=1.7272e-18): result may not be accurate.\n",
      "  dual_coef = linalg.solve(K, y, sym_pos=True,\n",
      "/Users/jakubstepien/opt/anaconda3/lib/python3.9/site-packages/sklearn/linear_model/_ridge.py:190: UserWarning: Singular matrix in solving dual problem. Using least-squares solution instead.\n",
      "  warnings.warn(\"Singular matrix in solving dual problem. Using \"\n",
      "/Users/jakubstepien/opt/anaconda3/lib/python3.9/site-packages/sklearn/linear_model/_ridge.py:187: LinAlgWarning: Ill-conditioned matrix (rcond=8.85001e-19): result may not be accurate.\n",
      "  dual_coef = linalg.solve(K, y, sym_pos=True,\n",
      "/Users/jakubstepien/opt/anaconda3/lib/python3.9/site-packages/sklearn/linear_model/_ridge.py:187: LinAlgWarning: Ill-conditioned matrix (rcond=1.24122e-18): result may not be accurate.\n",
      "  dual_coef = linalg.solve(K, y, sym_pos=True,\n",
      "/Users/jakubstepien/opt/anaconda3/lib/python3.9/site-packages/sklearn/linear_model/_ridge.py:187: LinAlgWarning: Ill-conditioned matrix (rcond=1.05339e-17): result may not be accurate.\n",
      "  dual_coef = linalg.solve(K, y, sym_pos=True,\n",
      "/Users/jakubstepien/opt/anaconda3/lib/python3.9/site-packages/sklearn/linear_model/_ridge.py:187: LinAlgWarning: Ill-conditioned matrix (rcond=1.34193e-18): result may not be accurate.\n",
      "  dual_coef = linalg.solve(K, y, sym_pos=True,\n",
      "/Users/jakubstepien/opt/anaconda3/lib/python3.9/site-packages/sklearn/linear_model/_ridge.py:187: LinAlgWarning: Ill-conditioned matrix (rcond=6.05345e-20): result may not be accurate.\n",
      "  dual_coef = linalg.solve(K, y, sym_pos=True,\n",
      "/Users/jakubstepien/opt/anaconda3/lib/python3.9/site-packages/sklearn/linear_model/_ridge.py:187: LinAlgWarning: Ill-conditioned matrix (rcond=1.66877e-18): result may not be accurate.\n",
      "  dual_coef = linalg.solve(K, y, sym_pos=True,\n",
      "/Users/jakubstepien/opt/anaconda3/lib/python3.9/site-packages/sklearn/linear_model/_ridge.py:187: LinAlgWarning: Ill-conditioned matrix (rcond=1.26176e-18): result may not be accurate.\n",
      "  dual_coef = linalg.solve(K, y, sym_pos=True,\n",
      "/Users/jakubstepien/opt/anaconda3/lib/python3.9/site-packages/sklearn/linear_model/_ridge.py:187: LinAlgWarning: Ill-conditioned matrix (rcond=1.11619e-17): result may not be accurate.\n",
      "  dual_coef = linalg.solve(K, y, sym_pos=True,\n",
      "/Users/jakubstepien/opt/anaconda3/lib/python3.9/site-packages/sklearn/linear_model/_ridge.py:187: LinAlgWarning: Ill-conditioned matrix (rcond=3.15186e-18): result may not be accurate.\n",
      "  dual_coef = linalg.solve(K, y, sym_pos=True,\n",
      "/Users/jakubstepien/opt/anaconda3/lib/python3.9/site-packages/sklearn/linear_model/_ridge.py:187: LinAlgWarning: Ill-conditioned matrix (rcond=7.28786e-19): result may not be accurate.\n",
      "  dual_coef = linalg.solve(K, y, sym_pos=True,\n",
      "/Users/jakubstepien/opt/anaconda3/lib/python3.9/site-packages/sklearn/linear_model/_ridge.py:187: LinAlgWarning: Ill-conditioned matrix (rcond=2.76673e-18): result may not be accurate.\n",
      "  dual_coef = linalg.solve(K, y, sym_pos=True,\n",
      "/Users/jakubstepien/opt/anaconda3/lib/python3.9/site-packages/sklearn/linear_model/_ridge.py:187: LinAlgWarning: Ill-conditioned matrix (rcond=3.28661e-18): result may not be accurate.\n",
      "  dual_coef = linalg.solve(K, y, sym_pos=True,\n",
      "/Users/jakubstepien/opt/anaconda3/lib/python3.9/site-packages/sklearn/linear_model/_ridge.py:187: LinAlgWarning: Ill-conditioned matrix (rcond=1.41126e-17): result may not be accurate.\n",
      "  dual_coef = linalg.solve(K, y, sym_pos=True,\n",
      "/Users/jakubstepien/opt/anaconda3/lib/python3.9/site-packages/sklearn/linear_model/_ridge.py:190: UserWarning: Singular matrix in solving dual problem. Using least-squares solution instead.\n",
      "  warnings.warn(\"Singular matrix in solving dual problem. Using \"\n",
      "/Users/jakubstepien/opt/anaconda3/lib/python3.9/site-packages/sklearn/linear_model/_ridge.py:190: UserWarning: Singular matrix in solving dual problem. Using least-squares solution instead.\n",
      "  warnings.warn(\"Singular matrix in solving dual problem. Using \"\n",
      "/Users/jakubstepien/opt/anaconda3/lib/python3.9/site-packages/sklearn/linear_model/_ridge.py:190: UserWarning: Singular matrix in solving dual problem. Using least-squares solution instead.\n",
      "  warnings.warn(\"Singular matrix in solving dual problem. Using \"\n",
      "/Users/jakubstepien/opt/anaconda3/lib/python3.9/site-packages/sklearn/linear_model/_ridge.py:190: UserWarning: Singular matrix in solving dual problem. Using least-squares solution instead.\n",
      "  warnings.warn(\"Singular matrix in solving dual problem. Using \"\n",
      "/Users/jakubstepien/opt/anaconda3/lib/python3.9/site-packages/sklearn/linear_model/_ridge.py:190: UserWarning: Singular matrix in solving dual problem. Using least-squares solution instead.\n",
      "  warnings.warn(\"Singular matrix in solving dual problem. Using \"\n",
      "/Users/jakubstepien/opt/anaconda3/lib/python3.9/site-packages/sklearn/linear_model/_ridge.py:190: UserWarning: Singular matrix in solving dual problem. Using least-squares solution instead.\n",
      "  warnings.warn(\"Singular matrix in solving dual problem. Using \"\n",
      "/Users/jakubstepien/opt/anaconda3/lib/python3.9/site-packages/sklearn/linear_model/_ridge.py:190: UserWarning: Singular matrix in solving dual problem. Using least-squares solution instead.\n",
      "  warnings.warn(\"Singular matrix in solving dual problem. Using \"\n",
      "/Users/jakubstepien/opt/anaconda3/lib/python3.9/site-packages/sklearn/linear_model/_ridge.py:190: UserWarning: Singular matrix in solving dual problem. Using least-squares solution instead.\n",
      "  warnings.warn(\"Singular matrix in solving dual problem. Using \"\n",
      "/Users/jakubstepien/opt/anaconda3/lib/python3.9/site-packages/sklearn/linear_model/_ridge.py:190: UserWarning: Singular matrix in solving dual problem. Using least-squares solution instead.\n",
      "  warnings.warn(\"Singular matrix in solving dual problem. Using \"\n",
      "/Users/jakubstepien/opt/anaconda3/lib/python3.9/site-packages/sklearn/linear_model/_ridge.py:190: UserWarning: Singular matrix in solving dual problem. Using least-squares solution instead.\n",
      "  warnings.warn(\"Singular matrix in solving dual problem. Using \"\n",
      "/Users/jakubstepien/opt/anaconda3/lib/python3.9/site-packages/sklearn/linear_model/_ridge.py:190: UserWarning: Singular matrix in solving dual problem. Using least-squares solution instead.\n",
      "  warnings.warn(\"Singular matrix in solving dual problem. Using \"\n",
      "/Users/jakubstepien/opt/anaconda3/lib/python3.9/site-packages/sklearn/linear_model/_ridge.py:190: UserWarning: Singular matrix in solving dual problem. Using least-squares solution instead.\n",
      "  warnings.warn(\"Singular matrix in solving dual problem. Using \"\n",
      "/Users/jakubstepien/opt/anaconda3/lib/python3.9/site-packages/sklearn/linear_model/_ridge.py:190: UserWarning: Singular matrix in solving dual problem. Using least-squares solution instead.\n",
      "  warnings.warn(\"Singular matrix in solving dual problem. Using \"\n"
     ]
    },
    {
     "name": "stderr",
     "output_type": "stream",
     "text": [
      "/Users/jakubstepien/opt/anaconda3/lib/python3.9/site-packages/sklearn/linear_model/_ridge.py:190: UserWarning: Singular matrix in solving dual problem. Using least-squares solution instead.\n",
      "  warnings.warn(\"Singular matrix in solving dual problem. Using \"\n",
      "/Users/jakubstepien/opt/anaconda3/lib/python3.9/site-packages/sklearn/linear_model/_ridge.py:190: UserWarning: Singular matrix in solving dual problem. Using least-squares solution instead.\n",
      "  warnings.warn(\"Singular matrix in solving dual problem. Using \"\n",
      "/Users/jakubstepien/opt/anaconda3/lib/python3.9/site-packages/sklearn/linear_model/_ridge.py:190: UserWarning: Singular matrix in solving dual problem. Using least-squares solution instead.\n",
      "  warnings.warn(\"Singular matrix in solving dual problem. Using \"\n",
      "/Users/jakubstepien/opt/anaconda3/lib/python3.9/site-packages/sklearn/linear_model/_ridge.py:190: UserWarning: Singular matrix in solving dual problem. Using least-squares solution instead.\n",
      "  warnings.warn(\"Singular matrix in solving dual problem. Using \"\n",
      "/Users/jakubstepien/opt/anaconda3/lib/python3.9/site-packages/sklearn/linear_model/_ridge.py:190: UserWarning: Singular matrix in solving dual problem. Using least-squares solution instead.\n",
      "  warnings.warn(\"Singular matrix in solving dual problem. Using \"\n",
      "/Users/jakubstepien/opt/anaconda3/lib/python3.9/site-packages/sklearn/linear_model/_ridge.py:190: UserWarning: Singular matrix in solving dual problem. Using least-squares solution instead.\n",
      "  warnings.warn(\"Singular matrix in solving dual problem. Using \"\n",
      "/Users/jakubstepien/opt/anaconda3/lib/python3.9/site-packages/sklearn/linear_model/_ridge.py:190: UserWarning: Singular matrix in solving dual problem. Using least-squares solution instead.\n",
      "  warnings.warn(\"Singular matrix in solving dual problem. Using \"\n"
     ]
    },
    {
     "name": "stdout",
     "output_type": "stream",
     "text": [
      "{'polynomialfeatures__degree': 1, 'ridge__alpha': 170}\n",
      "R^2: 0.2447733712332819\n"
     ]
    },
    {
     "name": "stderr",
     "output_type": "stream",
     "text": [
      "/Users/jakubstepien/opt/anaconda3/lib/python3.9/site-packages/sklearn/linear_model/_ridge.py:190: UserWarning: Singular matrix in solving dual problem. Using least-squares solution instead.\n",
      "  warnings.warn(\"Singular matrix in solving dual problem. Using \"\n",
      "/Users/jakubstepien/opt/anaconda3/lib/python3.9/site-packages/sklearn/linear_model/_ridge.py:190: UserWarning: Singular matrix in solving dual problem. Using least-squares solution instead.\n",
      "  warnings.warn(\"Singular matrix in solving dual problem. Using \"\n",
      "/Users/jakubstepien/opt/anaconda3/lib/python3.9/site-packages/sklearn/linear_model/_ridge.py:190: UserWarning: Singular matrix in solving dual problem. Using least-squares solution instead.\n",
      "  warnings.warn(\"Singular matrix in solving dual problem. Using \"\n",
      "/Users/jakubstepien/opt/anaconda3/lib/python3.9/site-packages/sklearn/linear_model/_ridge.py:190: UserWarning: Singular matrix in solving dual problem. Using least-squares solution instead.\n",
      "  warnings.warn(\"Singular matrix in solving dual problem. Using \"\n",
      "/Users/jakubstepien/opt/anaconda3/lib/python3.9/site-packages/sklearn/linear_model/_ridge.py:190: UserWarning: Singular matrix in solving dual problem. Using least-squares solution instead.\n",
      "  warnings.warn(\"Singular matrix in solving dual problem. Using \"\n"
     ]
    }
   ],
   "source": [
    "grid_2 = GridSearchCV(make_pipeline(PolynomialFeatures(degree=2), Ridge()),\n",
    "                    param_grid={'polynomialfeatures__degree': [1, 2, 3, 4],\n",
    "                    'ridge__alpha': [100,130,150,170,200]},\n",
    "                    cv=kfold,\n",
    "                    refit=True)\n",
    "grid_2.fit(X, y)\n",
    "print(grid_2.best_params_)\n",
    "print(\"R^2: {}\".format(metrics.r2_score(y_test, grid_2.predict(X_test)) ))"
   ]
  },
  {
   "cell_type": "code",
   "execution_count": 21,
   "metadata": {},
   "outputs": [
    {
     "data": {
      "image/png": "[encoded data removed]",
      "text/plain": [
       "<Figure size 288x288 with 1 Axes>"
      ]
     },
     "metadata": {
      "needs_background": "light"
     },
     "output_type": "display_data"
    }
   ],
   "source": [
    "plt.matshow(grid_2.cv_results_['mean_test_score'].reshape(4, -1),\n",
    "vmin=0, cmap=\"viridis\")\n",
    "plt.xlabel(\"ridge__alpha\")\n",
    "plt.ylabel(\"polynomialfeatures__degree\")\n",
    "plt.show()"
   ]
  },
  {
   "cell_type": "code",
   "execution_count": 53,
   "metadata": {},
   "outputs": [
    {
     "name": "stderr",
     "output_type": "stream",
     "text": [
      "/Users/jakubstepien/opt/anaconda3/lib/python3.9/site-packages/sklearn/linear_model/_coordinate_descent.py:530: ConvergenceWarning: Objective did not converge. You might want to increase the number of iterations. Duality gap: 1401.856425158837, tolerance: 3.8280406043956052\n",
      "  model = cd_fast.enet_coordinate_descent(\n",
      "/Users/jakubstepien/opt/anaconda3/lib/python3.9/site-packages/sklearn/linear_model/_coordinate_descent.py:530: ConvergenceWarning: Objective did not converge. You might want to increase the number of iterations. Duality gap: 1405.6535952901843, tolerance: 3.4063733315068494\n",
      "  model = cd_fast.enet_coordinate_descent(\n",
      "/Users/jakubstepien/opt/anaconda3/lib/python3.9/site-packages/sklearn/linear_model/_coordinate_descent.py:530: ConvergenceWarning: Objective did not converge. You might want to increase the number of iterations. Duality gap: 1374.4892842819697, tolerance: 2.6657784493150682\n",
      "  model = cd_fast.enet_coordinate_descent(\n",
      "/Users/jakubstepien/opt/anaconda3/lib/python3.9/site-packages/sklearn/linear_model/_coordinate_descent.py:530: ConvergenceWarning: Objective did not converge. You might want to increase the number of iterations. Duality gap: 1326.7996367597782, tolerance: 3.673183983561644\n",
      "  model = cd_fast.enet_coordinate_descent(\n",
      "/Users/jakubstepien/opt/anaconda3/lib/python3.9/site-packages/sklearn/linear_model/_coordinate_descent.py:530: ConvergenceWarning: Objective did not converge. You might want to increase the number of iterations. Duality gap: 712.3319925355618, tolerance: 2.538843304109589\n",
      "  model = cd_fast.enet_coordinate_descent(\n",
      "/Users/jakubstepien/opt/anaconda3/lib/python3.9/site-packages/sklearn/linear_model/_coordinate_descent.py:530: ConvergenceWarning: Objective did not converge. You might want to increase the number of iterations. Duality gap: 691.9129096518798, tolerance: 3.8280406043956052\n",
      "  model = cd_fast.enet_coordinate_descent(\n",
      "/Users/jakubstepien/opt/anaconda3/lib/python3.9/site-packages/sklearn/linear_model/_coordinate_descent.py:530: ConvergenceWarning: Objective did not converge. You might want to increase the number of iterations. Duality gap: 653.2646248969447, tolerance: 3.4063733315068494\n",
      "  model = cd_fast.enet_coordinate_descent(\n",
      "/Users/jakubstepien/opt/anaconda3/lib/python3.9/site-packages/sklearn/linear_model/_coordinate_descent.py:530: ConvergenceWarning: Objective did not converge. You might want to increase the number of iterations. Duality gap: 668.5903919065197, tolerance: 2.6657784493150682\n",
      "  model = cd_fast.enet_coordinate_descent(\n",
      "/Users/jakubstepien/opt/anaconda3/lib/python3.9/site-packages/sklearn/linear_model/_coordinate_descent.py:530: ConvergenceWarning: Objective did not converge. You might want to increase the number of iterations. Duality gap: 704.6683148253783, tolerance: 3.673183983561644\n",
      "  model = cd_fast.enet_coordinate_descent(\n",
      "/Users/jakubstepien/opt/anaconda3/lib/python3.9/site-packages/sklearn/linear_model/_coordinate_descent.py:530: ConvergenceWarning: Objective did not converge. You might want to increase the number of iterations. Duality gap: 393.3373815021117, tolerance: 2.538843304109589\n",
      "  model = cd_fast.enet_coordinate_descent(\n",
      "/Users/jakubstepien/opt/anaconda3/lib/python3.9/site-packages/sklearn/linear_model/_coordinate_descent.py:530: ConvergenceWarning: Objective did not converge. You might want to increase the number of iterations. Duality gap: 367.118877119683, tolerance: 3.8280406043956052\n",
      "  model = cd_fast.enet_coordinate_descent(\n",
      "/Users/jakubstepien/opt/anaconda3/lib/python3.9/site-packages/sklearn/linear_model/_coordinate_descent.py:530: ConvergenceWarning: Objective did not converge. You might want to increase the number of iterations. Duality gap: 335.30940042302296, tolerance: 3.4063733315068494\n",
      "  model = cd_fast.enet_coordinate_descent(\n",
      "/Users/jakubstepien/opt/anaconda3/lib/python3.9/site-packages/sklearn/linear_model/_coordinate_descent.py:530: ConvergenceWarning: Objective did not converge. You might want to increase the number of iterations. Duality gap: 343.6677500282427, tolerance: 2.6657784493150682\n",
      "  model = cd_fast.enet_coordinate_descent(\n",
      "/Users/jakubstepien/opt/anaconda3/lib/python3.9/site-packages/sklearn/linear_model/_coordinate_descent.py:530: ConvergenceWarning: Objective did not converge. You might want to increase the number of iterations. Duality gap: 383.58898320956456, tolerance: 3.673183983561644\n",
      "  model = cd_fast.enet_coordinate_descent(\n",
      "/Users/jakubstepien/opt/anaconda3/lib/python3.9/site-packages/sklearn/linear_model/_coordinate_descent.py:530: ConvergenceWarning: Objective did not converge. You might want to increase the number of iterations. Duality gap: 215.7592325882687, tolerance: 2.538843304109589\n",
      "  model = cd_fast.enet_coordinate_descent(\n",
      "/Users/jakubstepien/opt/anaconda3/lib/python3.9/site-packages/sklearn/linear_model/_coordinate_descent.py:530: ConvergenceWarning: Objective did not converge. You might want to increase the number of iterations. Duality gap: 1714.0927701735206, tolerance: 3.8280406043956052\n",
      "  model = cd_fast.enet_coordinate_descent(\n",
      "/Users/jakubstepien/opt/anaconda3/lib/python3.9/site-packages/sklearn/linear_model/_coordinate_descent.py:530: ConvergenceWarning: Objective did not converge. You might want to increase the number of iterations. Duality gap: 1717.9129495813295, tolerance: 3.4063733315068494\n",
      "  model = cd_fast.enet_coordinate_descent(\n",
      "/Users/jakubstepien/opt/anaconda3/lib/python3.9/site-packages/sklearn/linear_model/_coordinate_descent.py:530: ConvergenceWarning: Objective did not converge. You might want to increase the number of iterations. Duality gap: 1650.8627997841113, tolerance: 2.6657784493150682\n",
      "  model = cd_fast.enet_coordinate_descent(\n",
      "/Users/jakubstepien/opt/anaconda3/lib/python3.9/site-packages/sklearn/linear_model/_coordinate_descent.py:530: ConvergenceWarning: Objective did not converge. You might want to increase the number of iterations. Duality gap: 1532.0889844227897, tolerance: 3.673183983561644\n",
      "  model = cd_fast.enet_coordinate_descent(\n",
      "/Users/jakubstepien/opt/anaconda3/lib/python3.9/site-packages/sklearn/linear_model/_coordinate_descent.py:530: ConvergenceWarning: Objective did not converge. You might want to increase the number of iterations. Duality gap: 862.9903707357122, tolerance: 2.538843304109589\n",
      "  model = cd_fast.enet_coordinate_descent(\n",
      "/Users/jakubstepien/opt/anaconda3/lib/python3.9/site-packages/sklearn/linear_model/_coordinate_descent.py:530: ConvergenceWarning: Objective did not converge. You might want to increase the number of iterations. Duality gap: 804.4220923658143, tolerance: 3.8280406043956052\n",
      "  model = cd_fast.enet_coordinate_descent(\n",
      "/Users/jakubstepien/opt/anaconda3/lib/python3.9/site-packages/sklearn/linear_model/_coordinate_descent.py:530: ConvergenceWarning: Objective did not converge. You might want to increase the number of iterations. Duality gap: 766.9151293069776, tolerance: 3.4063733315068494\n",
      "  model = cd_fast.enet_coordinate_descent(\n",
      "/Users/jakubstepien/opt/anaconda3/lib/python3.9/site-packages/sklearn/linear_model/_coordinate_descent.py:530: ConvergenceWarning: Objective did not converge. You might want to increase the number of iterations. Duality gap: 780.0757004170833, tolerance: 2.6657784493150682\n",
      "  model = cd_fast.enet_coordinate_descent(\n",
      "/Users/jakubstepien/opt/anaconda3/lib/python3.9/site-packages/sklearn/linear_model/_coordinate_descent.py:530: ConvergenceWarning: Objective did not converge. You might want to increase the number of iterations. Duality gap: 772.6618882098826, tolerance: 3.673183983561644\n",
      "  model = cd_fast.enet_coordinate_descent(\n",
      "/Users/jakubstepien/opt/anaconda3/lib/python3.9/site-packages/sklearn/linear_model/_coordinate_descent.py:530: ConvergenceWarning: Objective did not converge. You might want to increase the number of iterations. Duality gap: 457.0008830681455, tolerance: 2.538843304109589\n",
      "  model = cd_fast.enet_coordinate_descent(\n",
      "/Users/jakubstepien/opt/anaconda3/lib/python3.9/site-packages/sklearn/linear_model/_coordinate_descent.py:530: ConvergenceWarning: Objective did not converge. You might want to increase the number of iterations. Duality gap: 422.0998431970571, tolerance: 3.8280406043956052\n",
      "  model = cd_fast.enet_coordinate_descent(\n"
     ]
    },
    {
     "name": "stderr",
     "output_type": "stream",
     "text": [
      "/Users/jakubstepien/opt/anaconda3/lib/python3.9/site-packages/sklearn/linear_model/_coordinate_descent.py:530: ConvergenceWarning: Objective did not converge. You might want to increase the number of iterations. Duality gap: 384.56693992079363, tolerance: 3.4063733315068494\n",
      "  model = cd_fast.enet_coordinate_descent(\n",
      "/Users/jakubstepien/opt/anaconda3/lib/python3.9/site-packages/sklearn/linear_model/_coordinate_descent.py:530: ConvergenceWarning: Objective did not converge. You might want to increase the number of iterations. Duality gap: 387.7577351714528, tolerance: 2.6657784493150682\n",
      "  model = cd_fast.enet_coordinate_descent(\n",
      "/Users/jakubstepien/opt/anaconda3/lib/python3.9/site-packages/sklearn/linear_model/_coordinate_descent.py:530: ConvergenceWarning: Objective did not converge. You might want to increase the number of iterations. Duality gap: 439.27958029548984, tolerance: 3.673183983561644\n",
      "  model = cd_fast.enet_coordinate_descent(\n",
      "/Users/jakubstepien/opt/anaconda3/lib/python3.9/site-packages/sklearn/linear_model/_coordinate_descent.py:530: ConvergenceWarning: Objective did not converge. You might want to increase the number of iterations. Duality gap: 241.2119349588221, tolerance: 2.538843304109589\n",
      "  model = cd_fast.enet_coordinate_descent(\n",
      "/Users/jakubstepien/opt/anaconda3/lib/python3.9/site-packages/sklearn/linear_model/_coordinate_descent.py:530: ConvergenceWarning: Objective did not converge. You might want to increase the number of iterations. Duality gap: 2179.091752098396, tolerance: 3.8280406043956052\n",
      "  model = cd_fast.enet_coordinate_descent(\n",
      "/Users/jakubstepien/opt/anaconda3/lib/python3.9/site-packages/sklearn/linear_model/_coordinate_descent.py:530: ConvergenceWarning: Objective did not converge. You might want to increase the number of iterations. Duality gap: 2214.257086039656, tolerance: 3.4063733315068494\n",
      "  model = cd_fast.enet_coordinate_descent(\n",
      "/Users/jakubstepien/opt/anaconda3/lib/python3.9/site-packages/sklearn/linear_model/_coordinate_descent.py:530: ConvergenceWarning: Objective did not converge. You might want to increase the number of iterations. Duality gap: 1981.8585705343135, tolerance: 2.6657784493150682\n",
      "  model = cd_fast.enet_coordinate_descent(\n",
      "/Users/jakubstepien/opt/anaconda3/lib/python3.9/site-packages/sklearn/linear_model/_coordinate_descent.py:530: ConvergenceWarning: Objective did not converge. You might want to increase the number of iterations. Duality gap: 2027.1914257281048, tolerance: 3.673183983561644\n",
      "  model = cd_fast.enet_coordinate_descent(\n",
      "/Users/jakubstepien/opt/anaconda3/lib/python3.9/site-packages/sklearn/linear_model/_coordinate_descent.py:530: ConvergenceWarning: Objective did not converge. You might want to increase the number of iterations. Duality gap: 1194.2532647354408, tolerance: 2.538843304109589\n",
      "  model = cd_fast.enet_coordinate_descent(\n",
      "/Users/jakubstepien/opt/anaconda3/lib/python3.9/site-packages/sklearn/linear_model/_coordinate_descent.py:530: ConvergenceWarning: Objective did not converge. You might want to increase the number of iterations. Duality gap: 952.4357945098955, tolerance: 3.8280406043956052\n",
      "  model = cd_fast.enet_coordinate_descent(\n",
      "/Users/jakubstepien/opt/anaconda3/lib/python3.9/site-packages/sklearn/linear_model/_coordinate_descent.py:530: ConvergenceWarning: Objective did not converge. You might want to increase the number of iterations. Duality gap: 933.7303583775753, tolerance: 3.4063733315068494\n",
      "  model = cd_fast.enet_coordinate_descent(\n",
      "/Users/jakubstepien/opt/anaconda3/lib/python3.9/site-packages/sklearn/linear_model/_coordinate_descent.py:530: ConvergenceWarning: Objective did not converge. You might want to increase the number of iterations. Duality gap: 926.8530474445256, tolerance: 2.6657784493150682\n",
      "  model = cd_fast.enet_coordinate_descent(\n",
      "/Users/jakubstepien/opt/anaconda3/lib/python3.9/site-packages/sklearn/linear_model/_coordinate_descent.py:530: ConvergenceWarning: Objective did not converge. You might want to increase the number of iterations. Duality gap: 904.8988238497998, tolerance: 3.673183983561644\n",
      "  model = cd_fast.enet_coordinate_descent(\n",
      "/Users/jakubstepien/opt/anaconda3/lib/python3.9/site-packages/sklearn/linear_model/_coordinate_descent.py:530: ConvergenceWarning: Objective did not converge. You might want to increase the number of iterations. Duality gap: 530.3235446912897, tolerance: 2.538843304109589\n",
      "  model = cd_fast.enet_coordinate_descent(\n",
      "/Users/jakubstepien/opt/anaconda3/lib/python3.9/site-packages/sklearn/linear_model/_coordinate_descent.py:530: ConvergenceWarning: Objective did not converge. You might want to increase the number of iterations. Duality gap: 480.1366365851925, tolerance: 3.8280406043956052\n",
      "  model = cd_fast.enet_coordinate_descent(\n",
      "/Users/jakubstepien/opt/anaconda3/lib/python3.9/site-packages/sklearn/linear_model/_coordinate_descent.py:530: ConvergenceWarning: Objective did not converge. You might want to increase the number of iterations. Duality gap: 433.14011577302244, tolerance: 3.4063733315068494\n",
      "  model = cd_fast.enet_coordinate_descent(\n",
      "/Users/jakubstepien/opt/anaconda3/lib/python3.9/site-packages/sklearn/linear_model/_coordinate_descent.py:530: ConvergenceWarning: Objective did not converge. You might want to increase the number of iterations. Duality gap: 445.7375818235538, tolerance: 2.6657784493150682\n",
      "  model = cd_fast.enet_coordinate_descent(\n",
      "/Users/jakubstepien/opt/anaconda3/lib/python3.9/site-packages/sklearn/linear_model/_coordinate_descent.py:530: ConvergenceWarning: Objective did not converge. You might want to increase the number of iterations. Duality gap: 500.353523366188, tolerance: 3.673183983561644\n",
      "  model = cd_fast.enet_coordinate_descent(\n",
      "/Users/jakubstepien/opt/anaconda3/lib/python3.9/site-packages/sklearn/linear_model/_coordinate_descent.py:530: ConvergenceWarning: Objective did not converge. You might want to increase the number of iterations. Duality gap: 284.69035964697514, tolerance: 2.538843304109589\n",
      "  model = cd_fast.enet_coordinate_descent(\n",
      "/Users/jakubstepien/opt/anaconda3/lib/python3.9/site-packages/sklearn/linear_model/_coordinate_descent.py:530: ConvergenceWarning: Objective did not converge. You might want to increase the number of iterations. Duality gap: 2466.9500830598076, tolerance: 3.8280406043956052\n",
      "  model = cd_fast.enet_coordinate_descent(\n",
      "/Users/jakubstepien/opt/anaconda3/lib/python3.9/site-packages/sklearn/linear_model/_coordinate_descent.py:530: ConvergenceWarning: Objective did not converge. You might want to increase the number of iterations. Duality gap: 2786.03777684726, tolerance: 3.4063733315068494\n",
      "  model = cd_fast.enet_coordinate_descent(\n",
      "/Users/jakubstepien/opt/anaconda3/lib/python3.9/site-packages/sklearn/linear_model/_coordinate_descent.py:530: ConvergenceWarning: Objective did not converge. You might want to increase the number of iterations. Duality gap: 1529.1569421529966, tolerance: 2.6657784493150682\n",
      "  model = cd_fast.enet_coordinate_descent(\n",
      "/Users/jakubstepien/opt/anaconda3/lib/python3.9/site-packages/sklearn/linear_model/_coordinate_descent.py:530: ConvergenceWarning: Objective did not converge. You might want to increase the number of iterations. Duality gap: 2408.1536060161925, tolerance: 3.673183983561644\n",
      "  model = cd_fast.enet_coordinate_descent(\n",
      "/Users/jakubstepien/opt/anaconda3/lib/python3.9/site-packages/sklearn/linear_model/_coordinate_descent.py:530: ConvergenceWarning: Objective did not converge. You might want to increase the number of iterations. Duality gap: 19.29938501713923, tolerance: 2.538843304109589\n",
      "  model = cd_fast.enet_coordinate_descent(\n",
      "/Users/jakubstepien/opt/anaconda3/lib/python3.9/site-packages/sklearn/linear_model/_coordinate_descent.py:530: ConvergenceWarning: Objective did not converge. You might want to increase the number of iterations. Duality gap: 1189.631624701715, tolerance: 3.8280406043956052\n",
      "  model = cd_fast.enet_coordinate_descent(\n",
      "/Users/jakubstepien/opt/anaconda3/lib/python3.9/site-packages/sklearn/linear_model/_coordinate_descent.py:530: ConvergenceWarning: Objective did not converge. You might want to increase the number of iterations. Duality gap: 1136.051123864863, tolerance: 3.4063733315068494\n",
      "  model = cd_fast.enet_coordinate_descent(\n",
      "/Users/jakubstepien/opt/anaconda3/lib/python3.9/site-packages/sklearn/linear_model/_coordinate_descent.py:530: ConvergenceWarning: Objective did not converge. You might want to increase the number of iterations. Duality gap: 1152.075076326024, tolerance: 2.6657784493150682\n",
      "  model = cd_fast.enet_coordinate_descent(\n"
     ]
    },
    {
     "name": "stderr",
     "output_type": "stream",
     "text": [
      "/Users/jakubstepien/opt/anaconda3/lib/python3.9/site-packages/sklearn/linear_model/_coordinate_descent.py:530: ConvergenceWarning: Objective did not converge. You might want to increase the number of iterations. Duality gap: 1084.2277763939617, tolerance: 3.673183983561644\n",
      "  model = cd_fast.enet_coordinate_descent(\n",
      "/Users/jakubstepien/opt/anaconda3/lib/python3.9/site-packages/sklearn/linear_model/_coordinate_descent.py:530: ConvergenceWarning: Objective did not converge. You might want to increase the number of iterations. Duality gap: 652.4504177548572, tolerance: 2.538843304109589\n",
      "  model = cd_fast.enet_coordinate_descent(\n",
      "/Users/jakubstepien/opt/anaconda3/lib/python3.9/site-packages/sklearn/linear_model/_coordinate_descent.py:530: ConvergenceWarning: Objective did not converge. You might want to increase the number of iterations. Duality gap: 591.9842315632883, tolerance: 3.8280406043956052\n",
      "  model = cd_fast.enet_coordinate_descent(\n",
      "/Users/jakubstepien/opt/anaconda3/lib/python3.9/site-packages/sklearn/linear_model/_coordinate_descent.py:530: ConvergenceWarning: Objective did not converge. You might want to increase the number of iterations. Duality gap: 542.2138226840983, tolerance: 3.4063733315068494\n",
      "  model = cd_fast.enet_coordinate_descent(\n",
      "/Users/jakubstepien/opt/anaconda3/lib/python3.9/site-packages/sklearn/linear_model/_coordinate_descent.py:530: ConvergenceWarning: Objective did not converge. You might want to increase the number of iterations. Duality gap: 554.238613551175, tolerance: 2.6657784493150682\n",
      "  model = cd_fast.enet_coordinate_descent(\n",
      "/Users/jakubstepien/opt/anaconda3/lib/python3.9/site-packages/sklearn/linear_model/_coordinate_descent.py:530: ConvergenceWarning: Objective did not converge. You might want to increase the number of iterations. Duality gap: 594.0943346484471, tolerance: 3.673183983561644\n",
      "  model = cd_fast.enet_coordinate_descent(\n"
     ]
    },
    {
     "name": "stdout",
     "output_type": "stream",
     "text": [
      "R^2: 0.2447733712332819\n"
     ]
    },
    {
     "name": "stderr",
     "output_type": "stream",
     "text": [
      "/Users/jakubstepien/opt/anaconda3/lib/python3.9/site-packages/sklearn/linear_model/_coordinate_descent.py:530: ConvergenceWarning: Objective did not converge. You might want to increase the number of iterations. Duality gap: 351.0113234499306, tolerance: 2.538843304109589\n",
      "  model = cd_fast.enet_coordinate_descent(\n"
     ]
    }
   ],
   "source": [
    "grid_3 = GridSearchCV(make_pipeline(PolynomialFeatures(degree=2), Lasso()),\n",
    "                    param_grid={'polynomialfeatures__degree': [1, 2, 3, 4],\n",
    "                    'lasso__alpha': [0.01, 0.1, 1, 10]},\n",
    "                    cv=kfold,\n",
    "                    refit=True)\n",
    "grid_3.fit(X, y)\n",
    "grid_3.best_params_\n",
    "print(\"R^2: {}\".format(metrics.r2_score(y_test, grid_2.predict(X_test)) ))"
   ]
  },
  {
   "cell_type": "code",
   "execution_count": 23,
   "metadata": {},
   "outputs": [
    {
     "data": {
      "image/png": "[encoded data removed]",
      "text/plain": [
       "<Figure size 288x288 with 1 Axes>"
      ]
     },
     "metadata": {
      "needs_background": "light"
     },
     "output_type": "display_data"
    }
   ],
   "source": [
    "plt.matshow(grid_3.cv_results_['mean_test_score'].reshape(4, -1),\n",
    "vmin=0, cmap=\"viridis\")\n",
    "plt.xlabel(\"lasso__alpha\")\n",
    "plt.ylabel(\"polynomialfeatures__degree\")\n",
    "plt.show()"
   ]
  },
  {
   "cell_type": "code",
   "execution_count": 60,
   "metadata": {},
   "outputs": [
    {
     "name": "stdout",
     "output_type": "stream",
     "text": [
      "R^2: 0.41894349864428226\n"
     ]
    }
   ],
   "source": [
    "grid_4 = GridSearchCV(make_pipeline(PolynomialFeatures(degree=1), linear_model.LinearRegression()),\n",
    "                    param_grid={'polynomialfeatures__degree': [1, 2, 3, 4]},\n",
    "                    cv=kfold,\n",
    "                    refit=True)\n",
    "grid_4.fit(X, y)\n",
    "grid_4.best_params_\n",
    "print(\"R^2: {}\".format(metrics.r2_score(y_test, grid_4.predict(X_test)) ))"
   ]
  },
  {
   "cell_type": "code",
   "execution_count": null,
   "metadata": {},
   "outputs": [],
   "source": []
  },
  {
   "cell_type": "code",
   "execution_count": 40,
   "metadata": {},
   "outputs": [
    {
     "name": "stdout",
     "output_type": "stream",
     "text": [
      "ElasticNet\n",
      "R^2: 0.26340853304991185\n",
      "Explained variance score: 0.26400368916636874\n",
      "Median absolute error: 1.9622440144441953\n",
      "Mean squared error: 13.894251181932818\n",
      "Mean absolute errors: 2.8070599393557227\n",
      "Lasso\n",
      "R^2: 0.2615522704536132\n",
      "Explained variance score: 0.2631176513729735\n",
      "Median absolute error: 2.1175063093831383\n",
      "Mean squared error: 13.929265677660542\n",
      "Mean absolute errors: 2.8252776487341373\n",
      "Ridge\n",
      "R^2: 0.2945970264429163\n",
      "Explained variance score: 0.29469272114054035\n",
      "Median absolute error: 1.9355672663158625\n",
      "Mean squared error: 13.305945749909915\n",
      "Mean absolute errors: 2.7136637564664916\n",
      "LR\n",
      "R^2: 0.41894349864428226\n",
      "Explained variance score: 0.4219736471796022\n",
      "Median absolute error: 2.089049047357003\n",
      "Mean squared error: 10.960410679422768\n",
      "Mean absolute errors: 2.5372525352164157\n"
     ]
    }
   ],
   "source": [
    "from sklearn import  metrics\n",
    "\n",
    "X_test=boston_X_test\n",
    "y_test=boston_y_test\n",
    "\n",
    "models = []\n",
    "models.append(('ElasticNet', grid_1.best_estimator_))\n",
    "models.append(('Lasso', grid_2.best_estimator_))\n",
    "models.append(('Ridge', grid_3.best_estimator_))\n",
    "models.append(('LR', grid_4.best_estimator_))\n",
    "\n",
    "r2 = []\n",
    "explained_variance_score = []\n",
    "median_absolute_error = []\n",
    "mean_squared_error = []\n",
    "mean_absolute_error = []\n",
    "for name, model in models:\n",
    "    print(name)\n",
    "    print(\"R^2: {}\".format(metrics.r2_score(y_test, model.predict(X_test)) ))\n",
    "    print(\"Explained variance score: {}\".format( metrics.explained_variance_score(y_test, model.predict(X_test)) ))\n",
    "    print(\"Median absolute error: {}\".format( metrics.median_absolute_error(y_test, model.predict(X_test)) ))\n",
    "    print(\"Mean squared error: {}\".format( metrics.mean_squared_error(y_test, model.predict(X_test)) ))\n",
    "    print(\"Mean absolute errors: {}\".format(metrics.mean_absolute_error(y_test, model.predict(X_test)) ))\n",
    "    r2.append(metrics.r2_score(y_test, model.predict(X_test)))\n",
    "    explained_variance_score.append(metrics.explained_variance_score(y_test, model.predict(X_test)))\n",
    "    median_absolute_error.append( metrics.median_absolute_error(y_test, model.predict(X_test)))\n",
    "    mean_squared_error.append(metrics.mean_squared_error(y_test, model.predict(X_test)))\n",
    "    mean_absolute_error.append(metrics.mean_absolute_error(y_test, model.predict(X_test)))"
   ]
  },
  {
   "cell_type": "code",
   "execution_count": 41,
   "metadata": {},
   "outputs": [
    {
     "data": {
      "text/html": [
       "<div>\n",
       "<style scoped>\n",
       "    .dataframe tbody tr th:only-of-type {\n",
       "        vertical-align: middle;\n",
       "    }\n",
       "\n",
       "    .dataframe tbody tr th {\n",
       "        vertical-align: top;\n",
       "    }\n",
       "\n",
       "    .dataframe thead th {\n",
       "        text-align: right;\n",
       "    }\n",
       "</style>\n",
       "<table border=\"1\" class=\"dataframe\">\n",
       "  <thead>\n",
       "    <tr style=\"text-align: right;\">\n",
       "      <th></th>\n",
       "      <th>Method</th>\n",
       "      <th>r2</th>\n",
       "      <th>explained_variance_score</th>\n",
       "      <th>median_absolute_error</th>\n",
       "      <th>mean_squared_error</th>\n",
       "      <th>mean_absolute_error</th>\n",
       "    </tr>\n",
       "  </thead>\n",
       "  <tbody>\n",
       "    <tr>\n",
       "      <th>0</th>\n",
       "      <td>ElasticNet</td>\n",
       "      <td>0.263409</td>\n",
       "      <td>0.264004</td>\n",
       "      <td>1.962244</td>\n",
       "      <td>13.894251</td>\n",
       "      <td>2.807060</td>\n",
       "    </tr>\n",
       "    <tr>\n",
       "      <th>1</th>\n",
       "      <td>Lasso</td>\n",
       "      <td>0.261552</td>\n",
       "      <td>0.263118</td>\n",
       "      <td>2.117506</td>\n",
       "      <td>13.929266</td>\n",
       "      <td>2.825278</td>\n",
       "    </tr>\n",
       "    <tr>\n",
       "      <th>2</th>\n",
       "      <td>Ridge</td>\n",
       "      <td>0.294597</td>\n",
       "      <td>0.294693</td>\n",
       "      <td>1.935567</td>\n",
       "      <td>13.305946</td>\n",
       "      <td>2.713664</td>\n",
       "    </tr>\n",
       "    <tr>\n",
       "      <th>3</th>\n",
       "      <td>LR</td>\n",
       "      <td>0.418943</td>\n",
       "      <td>0.421974</td>\n",
       "      <td>2.089049</td>\n",
       "      <td>10.960411</td>\n",
       "      <td>2.537253</td>\n",
       "    </tr>\n",
       "  </tbody>\n",
       "</table>\n",
       "</div>"
      ],
      "text/plain": [
       "       Method        r2  explained_variance_score  median_absolute_error  \\\n",
       "0  ElasticNet  0.263409                  0.264004               1.962244   \n",
       "1       Lasso  0.261552                  0.263118               2.117506   \n",
       "2       Ridge  0.294597                  0.294693               1.935567   \n",
       "3          LR  0.418943                  0.421974               2.089049   \n",
       "\n",
       "   mean_squared_error  mean_absolute_error  \n",
       "0           13.894251             2.807060  \n",
       "1           13.929266             2.825278  \n",
       "2           13.305946             2.713664  \n",
       "3           10.960411             2.537253  "
      ]
     },
     "execution_count": 41,
     "metadata": {},
     "output_type": "execute_result"
    }
   ],
   "source": [
    "import pandas as pd\n",
    "d = {'r2': r2, \n",
    "     'explained_variance_score': explained_variance_score, \n",
    "     'median_absolute_error': median_absolute_error,\n",
    "     'mean_squared_error' : mean_squared_error,\n",
    "     'mean_absolute_error' : mean_absolute_error,\n",
    "    }\n",
    "df = pd.DataFrame(data=d)\n",
    "df.insert(loc=0, column='Method', value=['ElasticNet','Lasso','Ridge','LR'])\n",
    "df"
   ]
  },
  {
   "cell_type": "code",
   "execution_count": null,
   "metadata": {
    "collapsed": true
   },
   "outputs": [],
   "source": []
  },
  {
   "cell_type": "code",
   "execution_count": null,
   "metadata": {
    "collapsed": true
   },
   "outputs": [],
   "source": [
    "svr1 = GridSearchCV(SVR(kernel='rbf', gamma=0.1), cv=5,\n",
    "                   param_grid={\"C\": [0.001, 0.01, 0.1, 1, 10 ,100, 1000],\n",
    "                               \"gamma\": [0.0001,0.001, 0.01, 0.1, 1, 10 ,100, 1000]})\n",
    "svr1.fit(, y_t)\n",
    "print(svr.best_params_)\n",
    "print(\"R^2: {}\".format(metrics.r2_score(y, svr1.predict(X)) ))"
   ]
  },
  {
   "cell_type": "code",
   "execution_count": null,
   "metadata": {
    "collapsed": true
   },
   "outputs": [],
   "source": []
  },
  {
   "cell_type": "code",
   "execution_count": null,
   "metadata": {
    "collapsed": true
   },
   "outputs": [],
   "source": []
  },
  {
   "cell_type": "code",
   "execution_count": null,
   "metadata": {
    "collapsed": true
   },
   "outputs": [],
   "source": []
  },
  {
   "cell_type": "code",
   "execution_count": null,
   "metadata": {
    "collapsed": true
   },
   "outputs": [],
   "source": []
  }
 ],
 "metadata": {
  "kernelspec": {
   "display_name": "Python 3 (ipykernel)",
   "language": "python",
   "name": "python3"
  },
  "language_info": {
   "codemirror_mode": {
    "name": "ipython",
    "version": 3
   },
   "file_extension": ".py",
   "mimetype": "text/x-python",
   "name": "python",
   "nbconvert_exporter": "python",
   "pygments_lexer": "ipython3",
   "version": "3.9.9"
  }
 },
 "nbformat": 4,
 "nbformat_minor": 2
}
